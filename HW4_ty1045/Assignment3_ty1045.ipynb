{
 "cells": [
  {
   "cell_type": "markdown",
   "metadata": {},
   "source": [
    "### Idea: New bus route has similar travel or even more time compared to the old ones. \n",
    "\n",
    "### Null Hypothesis $H_0$: \n",
    "New bus route average travel time will be greater than or equal to that of the old routes.\n",
    "### $H_0$: T(new) >= T(old)\n",
    "\n",
    "\n",
    "### Hypothesis $H_a$:\n",
    "New bus route average travel time will be less than that of the old routes.\n",
    "### $H_a$: T(new) < T(old)\n",
    "\n",
    "### $a = 0.05$"
   ]
  },
  {
   "cell_type": "code",
   "execution_count": 2,
   "metadata": {},
   "outputs": [],
   "source": [
    "# PUI2018 - Homework 4 - Gabriel Yin - ty1045 - N10088627 \n",
    "author = \"__Gabriel__\"\n",
    "contact = \"__gabrielyin@berkeley.edu__\"\n",
    "# import packages\n",
    "import pandas as pd \n",
    "import numpy as np \n",
    "import requests, json\n",
    "import matplotlib.pyplot as plt \n",
    "import seaborn as sns "
   ]
  },
  {
   "cell_type": "code",
   "execution_count": 29,
   "metadata": {},
   "outputs": [
    {
     "name": "stdout",
     "output_type": "stream",
     "text": [
      "--2018-10-03 00:36:21--  https://raw.githubusercontent.com/fedhere/PUI2018_fb55/master/Lab4_fb55/times.txt\r\n",
      "Resolving raw.githubusercontent.com (raw.githubusercontent.com)... 151.101.200.133\r\n",
      "Connecting to raw.githubusercontent.com (raw.githubusercontent.com)|151.101.200.133|:443... connected.\r\n",
      "HTTP request sent, awaiting response... 200 OK\r\n",
      "Length: 1179 (1.2K) [text/plain]\r\n",
      "Saving to: ‘times.txt’\r\n",
      "\r\n",
      "\r",
      "times.txt             0%[                    ]       0  --.-KB/s               \r",
      "times.txt           100%[===================>]   1.15K  --.-KB/s    in 0s      \r\n",
      "\r\n",
      "2018-10-03 00:36:21 (164 MB/s) - ‘times.txt’ saved [1179/1179]\r\n",
      "\r\n"
     ]
    }
   ],
   "source": [
    "# download raw data \n",
    "!wget https://raw.githubusercontent.com/fedhere/PUI2018_fb55/master/Lab4_fb55/times.txt"
   ]
  },
  {
   "cell_type": "code",
   "execution_count": 34,
   "metadata": {},
   "outputs": [],
   "source": [
    "# read into dataframe \n",
    "raw_data = pd.read_csv(\"times.txt\", header=None)"
   ]
  },
  {
   "cell_type": "code",
   "execution_count": 35,
   "metadata": {},
   "outputs": [
    {
     "name": "stdout",
     "output_type": "stream",
     "text": [
      "<class 'pandas.core.frame.DataFrame'>\n",
      "RangeIndex: 100 entries, 0 to 99\n",
      "Data columns (total 1 columns):\n",
      "0    100 non-null float64\n",
      "dtypes: float64(1)\n",
      "memory usage: 880.0 bytes\n"
     ]
    },
    {
     "data": {
      "text/html": [
       "<div>\n",
       "<style scoped>\n",
       "    .dataframe tbody tr th:only-of-type {\n",
       "        vertical-align: middle;\n",
       "    }\n",
       "\n",
       "    .dataframe tbody tr th {\n",
       "        vertical-align: top;\n",
       "    }\n",
       "\n",
       "    .dataframe thead th {\n",
       "        text-align: right;\n",
       "    }\n",
       "</style>\n",
       "<table border=\"1\" class=\"dataframe\">\n",
       "  <thead>\n",
       "    <tr style=\"text-align: right;\">\n",
       "      <th></th>\n",
       "      <th>0</th>\n",
       "    </tr>\n",
       "  </thead>\n",
       "  <tbody>\n",
       "    <tr>\n",
       "      <th>0</th>\n",
       "      <td>31.622239</td>\n",
       "    </tr>\n",
       "    <tr>\n",
       "      <th>1</th>\n",
       "      <td>32.821376</td>\n",
       "    </tr>\n",
       "    <tr>\n",
       "      <th>2</th>\n",
       "      <td>30.229101</td>\n",
       "    </tr>\n",
       "    <tr>\n",
       "      <th>3</th>\n",
       "      <td>31.413766</td>\n",
       "    </tr>\n",
       "    <tr>\n",
       "      <th>4</th>\n",
       "      <td>39.010550</td>\n",
       "    </tr>\n",
       "    <tr>\n",
       "      <th>5</th>\n",
       "      <td>34.822079</td>\n",
       "    </tr>\n",
       "    <tr>\n",
       "      <th>6</th>\n",
       "      <td>39.871884</td>\n",
       "    </tr>\n",
       "    <tr>\n",
       "      <th>7</th>\n",
       "      <td>39.579946</td>\n",
       "    </tr>\n",
       "    <tr>\n",
       "      <th>8</th>\n",
       "      <td>31.026587</td>\n",
       "    </tr>\n",
       "    <tr>\n",
       "      <th>9</th>\n",
       "      <td>27.662461</td>\n",
       "    </tr>\n",
       "  </tbody>\n",
       "</table>\n",
       "</div>"
      ],
      "text/plain": [
       "           0\n",
       "0  31.622239\n",
       "1  32.821376\n",
       "2  30.229101\n",
       "3  31.413766\n",
       "4  39.010550\n",
       "5  34.822079\n",
       "6  39.871884\n",
       "7  39.579946\n",
       "8  31.026587\n",
       "9  27.662461"
      ]
     },
     "execution_count": 35,
     "metadata": {},
     "output_type": "execute_result"
    }
   ],
   "source": [
    "# print dataframe statistics\n",
    "raw_data.info()\n",
    "raw_data.describe()\n",
    "raw_data.head(10)"
   ]
  },
  {
   "cell_type": "code",
   "execution_count": 40,
   "metadata": {},
   "outputs": [
    {
     "name": "stdout",
     "output_type": "stream",
     "text": [
      "Calculated z-score: -2.149052 Abs z-score: 2.149052\n"
     ]
    }
   ],
   "source": [
    "# z_score calculation\n",
    "MU, TIME, LEN, SIGMA = 36.0, float(raw_data.mean()), len(raw_data), float(raw_data.std())\n",
    "calc_z = lambda time, mu, sigma, n : (time - mu) / (sigma / (np.sqrt(n)))\n",
    "z_score = calc_z(TIME, MU, SIGMA, LEN)\n",
    "print(\"Calculated z-score: %f Abs z-score: %f\" % (z_score, abs(z_score)))"
   ]
  },
  {
   "cell_type": "markdown",
   "metadata": {},
   "source": [
    "### In this case, since z-score, 2.149, is greater than the critical value at 0.05, which is 1.96. Therefore, we could thus reject the null hypothesis. We can say that the new bus route average travel time is faster than the old bus route travel time."
   ]
  }
 ],
 "metadata": {
  "kernelspec": {
   "display_name": "best",
   "language": "python",
   "name": "best"
  },
  "language_info": {
   "codemirror_mode": {
    "name": "ipython",
    "version": 3
   },
   "file_extension": ".py",
   "mimetype": "text/x-python",
   "name": "python",
   "nbconvert_exporter": "python",
   "pygments_lexer": "ipython3",
   "version": "3.6.6"
  }
 },
 "nbformat": 4,
 "nbformat_minor": 2
}
