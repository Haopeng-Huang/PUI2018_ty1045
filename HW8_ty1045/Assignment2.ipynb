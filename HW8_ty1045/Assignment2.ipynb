{
 "cells": [
  {
   "cell_type": "markdown",
   "metadata": {},
   "source": [
    "## Idea: A customer will stay longer on bikes compared to a subscriber.\n",
    "### Null Hypothesis ($H_0$)\n",
    "### The average travel time of customers will be less than or equal to that of subscribers.\n",
    "### $H_0$ : Average(customers) <= Average(subscribers)\n",
    "### Alternative Hypothesis ($H_a$)\n",
    "### The average travel time of customers will be greater than that of subscribers.\n",
    "### $H_a$ : Average(customers) > Average(subscribers)\n",
    "### Significance Threshold:\n",
    "### α = 0.05"
   ]
  },
  {
   "cell_type": "code",
   "execution_count": 1,
   "metadata": {},
   "outputs": [
    {
     "name": "stdout",
     "output_type": "stream",
     "text": [
      "PUIdata /nfshome/ty1045/PUIdata\n"
     ]
    }
   ],
   "source": [
    "from __future__  import print_function, division\n",
    "import pylab as pl\n",
    "import pandas as pd\n",
    "import numpy as np\n",
    "import os\n",
    "import requests, json\n",
    "os.environ[\"PUIDATA\"] = \"%s/PUIdata\"%os.getenv(\"HOME\")\n",
    "print(\"PUIdata\", os.getenv(\"PUIDATA\"))"
   ]
  },
  {
   "cell_type": "code",
   "execution_count": 2,
   "metadata": {},
   "outputs": [],
   "source": [
    "### A function to download the data: simple bash commands can be run by preceding them with !\n",
    "### but more complex command lines with variable arguments need to be build as strng and run with os.system\n",
    "### this code cell does a lot of things: looks for existing files, download a file if none is there, unzips it, moves it.\n",
    "### you do not have to have a code cell this complicated. \n",
    "### As long as \n",
    "### 1) your research is reproducible: we can access the same file as you without having to ask you for the file\n",
    "### 2) and your data is stored in a directory pointed to by the env variable PUIDATA \n",
    "### you will be fine. We already explored how to download data in other notebooks!\n",
    "\n",
    "def getCitiBikeCSV(datestring):\n",
    "    print (\"Downloading\", datestring)\n",
    "    ### First I will heck that it is not already there\n",
    "    if not os.path.isfile(os.getenv(\"PUIDATA\") + \"/\" + datestring + \"-citibike-tripdata.csv\"):\n",
    "        if os.path.isfile(datestring + \"-citibike-tripdata.csv\"):\n",
    "            # if in the current dir just move it\n",
    "            if os.system(\"mv \" + datestring + \"-citibike-tripdata.csv \" + os.getenv(\"PUIDATA\")):\n",
    "                print (\"Error moving file!, Please check!\")\n",
    "        #otherwise start looking for the zip file\n",
    "        else:\n",
    "            if not os.path.isfile(os.getenv(\"PUIDATA\") + \"/\" + datestring + \"-citibike-tripdata.zip\"):\n",
    "                if not os.path.isfile(datestring + \"-citibike-tripdata.zip\"):\n",
    "                    os.system(\"curl -O https://s3.amazonaws.com/tripdata/\" + datestring + \"-citibike-tripdata.zip\")\n",
    "                ###  To move it I use the os.system() functions to run bash commands with arguments\n",
    "                os.system(\"mv \" + datestring + \"-citibike-tripdata.zip \" + os.getenv(\"PUIDATA\"))\n",
    "            ### unzip the csv \n",
    "            os.system(\"unzip \" + os.getenv(\"PUIDATA\") + \"/\" + datestring + \"-citibike-tripdata.zip\")\n",
    "            ## NOTE: old csv citibike data had a different name structure. \n",
    "            if '2014' in datestring:\n",
    "                os.system(\"mv \" + datestring[:4] + '-' +  datestring[4:] + \n",
    "                          \"\\ -\\ Citi\\ Bike\\ trip\\ data.csv \" + datestring + \"-citibike-tripdata.csv\")\n",
    "            os.system(\"mv \" + datestring + \"-citibike-tripdata.csv \" + os.getenv(\"PUIDATA\"))\n",
    "    ### One final check:\n",
    "    if not os.path.isfile(os.getenv(\"PUIDATA\") + \"/\" + datestring + \"-citibike-tripdata.csv\"):\n",
    "        print (\"WARNING!!! something is wrong: the file is not there!\")\n",
    "\n",
    "    else:\n",
    "        print (\"file in place, you can continue\")"
   ]
  },
  {
   "cell_type": "code",
   "execution_count": 3,
   "metadata": {},
   "outputs": [
    {
     "name": "stdout",
     "output_type": "stream",
     "text": [
      "Downloading 201607\n",
      "file in place, you can continue\n"
     ]
    }
   ],
   "source": [
    "datestring = '201607'\n",
    "getCitiBikeCSV(datestring)\n",
    "df = pd.read_csv(os.getenv(\"PUIDATA\") + \"/\" + datestring + '-citibike-tripdata.csv')"
   ]
  },
  {
   "cell_type": "code",
   "execution_count": 4,
   "metadata": {},
   "outputs": [
    {
     "data": {
      "text/html": [
       "<div>\n",
       "<style scoped>\n",
       "    .dataframe tbody tr th:only-of-type {\n",
       "        vertical-align: middle;\n",
       "    }\n",
       "\n",
       "    .dataframe tbody tr th {\n",
       "        vertical-align: top;\n",
       "    }\n",
       "\n",
       "    .dataframe thead th {\n",
       "        text-align: right;\n",
       "    }\n",
       "</style>\n",
       "<table border=\"1\" class=\"dataframe\">\n",
       "  <thead>\n",
       "    <tr style=\"text-align: right;\">\n",
       "      <th></th>\n",
       "      <th>tripduration</th>\n",
       "      <th>starttime</th>\n",
       "      <th>stoptime</th>\n",
       "      <th>start station id</th>\n",
       "      <th>start station name</th>\n",
       "      <th>start station latitude</th>\n",
       "      <th>start station longitude</th>\n",
       "      <th>end station id</th>\n",
       "      <th>end station name</th>\n",
       "      <th>end station latitude</th>\n",
       "      <th>end station longitude</th>\n",
       "      <th>bikeid</th>\n",
       "      <th>usertype</th>\n",
       "      <th>birth year</th>\n",
       "      <th>gender</th>\n",
       "    </tr>\n",
       "  </thead>\n",
       "  <tbody>\n",
       "    <tr>\n",
       "      <th>0</th>\n",
       "      <td>704</td>\n",
       "      <td>7/1/2016 00:00:02</td>\n",
       "      <td>7/1/2016 00:11:47</td>\n",
       "      <td>459</td>\n",
       "      <td>W 20 St &amp; 11 Ave</td>\n",
       "      <td>40.746745</td>\n",
       "      <td>-74.007756</td>\n",
       "      <td>347</td>\n",
       "      <td>Greenwich St &amp; W Houston St</td>\n",
       "      <td>40.728846</td>\n",
       "      <td>-74.008591</td>\n",
       "      <td>17431</td>\n",
       "      <td>Customer</td>\n",
       "      <td>NaN</td>\n",
       "      <td>0</td>\n",
       "    </tr>\n",
       "    <tr>\n",
       "      <th>1</th>\n",
       "      <td>492</td>\n",
       "      <td>7/1/2016 00:00:18</td>\n",
       "      <td>7/1/2016 00:08:31</td>\n",
       "      <td>293</td>\n",
       "      <td>Lafayette St &amp; E 8 St</td>\n",
       "      <td>40.730287</td>\n",
       "      <td>-73.990765</td>\n",
       "      <td>466</td>\n",
       "      <td>W 25 St &amp; 6 Ave</td>\n",
       "      <td>40.743954</td>\n",
       "      <td>-73.991449</td>\n",
       "      <td>24159</td>\n",
       "      <td>Subscriber</td>\n",
       "      <td>1984.0</td>\n",
       "      <td>1</td>\n",
       "    </tr>\n",
       "    <tr>\n",
       "      <th>2</th>\n",
       "      <td>191</td>\n",
       "      <td>7/1/2016 00:00:19</td>\n",
       "      <td>7/1/2016 00:03:31</td>\n",
       "      <td>3090</td>\n",
       "      <td>N 8 St &amp; Driggs Ave</td>\n",
       "      <td>40.717746</td>\n",
       "      <td>-73.956001</td>\n",
       "      <td>3107</td>\n",
       "      <td>Bedford Ave &amp; Nassau Ave</td>\n",
       "      <td>40.723117</td>\n",
       "      <td>-73.952123</td>\n",
       "      <td>16345</td>\n",
       "      <td>Subscriber</td>\n",
       "      <td>1986.0</td>\n",
       "      <td>2</td>\n",
       "    </tr>\n",
       "    <tr>\n",
       "      <th>3</th>\n",
       "      <td>687</td>\n",
       "      <td>7/1/2016 00:00:24</td>\n",
       "      <td>7/1/2016 00:11:52</td>\n",
       "      <td>459</td>\n",
       "      <td>W 20 St &amp; 11 Ave</td>\n",
       "      <td>40.746745</td>\n",
       "      <td>-74.007756</td>\n",
       "      <td>347</td>\n",
       "      <td>Greenwich St &amp; W Houston St</td>\n",
       "      <td>40.728846</td>\n",
       "      <td>-74.008591</td>\n",
       "      <td>25210</td>\n",
       "      <td>Customer</td>\n",
       "      <td>NaN</td>\n",
       "      <td>0</td>\n",
       "    </tr>\n",
       "    <tr>\n",
       "      <th>4</th>\n",
       "      <td>609</td>\n",
       "      <td>7/1/2016 00:00:31</td>\n",
       "      <td>7/1/2016 00:10:40</td>\n",
       "      <td>284</td>\n",
       "      <td>Greenwich Ave &amp; 8 Ave</td>\n",
       "      <td>40.739017</td>\n",
       "      <td>-74.002638</td>\n",
       "      <td>212</td>\n",
       "      <td>W 16 St &amp; The High Line</td>\n",
       "      <td>40.743349</td>\n",
       "      <td>-74.006818</td>\n",
       "      <td>15514</td>\n",
       "      <td>Customer</td>\n",
       "      <td>NaN</td>\n",
       "      <td>0</td>\n",
       "    </tr>\n",
       "    <tr>\n",
       "      <th>5</th>\n",
       "      <td>672</td>\n",
       "      <td>7/1/2016 00:00:45</td>\n",
       "      <td>7/1/2016 00:11:57</td>\n",
       "      <td>459</td>\n",
       "      <td>W 20 St &amp; 11 Ave</td>\n",
       "      <td>40.746745</td>\n",
       "      <td>-74.007756</td>\n",
       "      <td>347</td>\n",
       "      <td>Greenwich St &amp; W Houston St</td>\n",
       "      <td>40.728846</td>\n",
       "      <td>-74.008591</td>\n",
       "      <td>15444</td>\n",
       "      <td>Subscriber</td>\n",
       "      <td>1991.0</td>\n",
       "      <td>1</td>\n",
       "    </tr>\n",
       "    <tr>\n",
       "      <th>6</th>\n",
       "      <td>466</td>\n",
       "      <td>7/1/2016 00:00:49</td>\n",
       "      <td>7/1/2016 00:08:35</td>\n",
       "      <td>128</td>\n",
       "      <td>MacDougal St &amp; Prince St</td>\n",
       "      <td>40.727103</td>\n",
       "      <td>-74.002971</td>\n",
       "      <td>250</td>\n",
       "      <td>Lafayette St &amp; Jersey St N</td>\n",
       "      <td>40.724561</td>\n",
       "      <td>-73.995653</td>\n",
       "      <td>14676</td>\n",
       "      <td>Subscriber</td>\n",
       "      <td>1989.0</td>\n",
       "      <td>1</td>\n",
       "    </tr>\n",
       "    <tr>\n",
       "      <th>7</th>\n",
       "      <td>556</td>\n",
       "      <td>7/1/2016 00:00:51</td>\n",
       "      <td>7/1/2016 00:10:07</td>\n",
       "      <td>433</td>\n",
       "      <td>E 13 St &amp; Avenue A</td>\n",
       "      <td>40.729554</td>\n",
       "      <td>-73.980572</td>\n",
       "      <td>284</td>\n",
       "      <td>Greenwich Ave &amp; 8 Ave</td>\n",
       "      <td>40.739017</td>\n",
       "      <td>-74.002638</td>\n",
       "      <td>25755</td>\n",
       "      <td>Subscriber</td>\n",
       "      <td>1989.0</td>\n",
       "      <td>1</td>\n",
       "    </tr>\n",
       "    <tr>\n",
       "      <th>8</th>\n",
       "      <td>767</td>\n",
       "      <td>7/1/2016 00:00:51</td>\n",
       "      <td>7/1/2016 00:13:39</td>\n",
       "      <td>254</td>\n",
       "      <td>W 11 St &amp; 6 Ave</td>\n",
       "      <td>40.735324</td>\n",
       "      <td>-73.998004</td>\n",
       "      <td>439</td>\n",
       "      <td>E 4 St &amp; 2 Ave</td>\n",
       "      <td>40.726281</td>\n",
       "      <td>-73.989780</td>\n",
       "      <td>18871</td>\n",
       "      <td>Subscriber</td>\n",
       "      <td>1976.0</td>\n",
       "      <td>1</td>\n",
       "    </tr>\n",
       "    <tr>\n",
       "      <th>9</th>\n",
       "      <td>1442</td>\n",
       "      <td>7/1/2016 00:00:54</td>\n",
       "      <td>7/1/2016 00:24:56</td>\n",
       "      <td>515</td>\n",
       "      <td>W 43 St &amp; 10 Ave</td>\n",
       "      <td>40.760094</td>\n",
       "      <td>-73.994618</td>\n",
       "      <td>511</td>\n",
       "      <td>E 14 St &amp; Avenue B</td>\n",
       "      <td>40.729387</td>\n",
       "      <td>-73.977724</td>\n",
       "      <td>20381</td>\n",
       "      <td>Subscriber</td>\n",
       "      <td>1994.0</td>\n",
       "      <td>2</td>\n",
       "    </tr>\n",
       "  </tbody>\n",
       "</table>\n",
       "</div>"
      ],
      "text/plain": [
       "   tripduration          starttime           stoptime  start station id  \\\n",
       "0           704  7/1/2016 00:00:02  7/1/2016 00:11:47               459   \n",
       "1           492  7/1/2016 00:00:18  7/1/2016 00:08:31               293   \n",
       "2           191  7/1/2016 00:00:19  7/1/2016 00:03:31              3090   \n",
       "3           687  7/1/2016 00:00:24  7/1/2016 00:11:52               459   \n",
       "4           609  7/1/2016 00:00:31  7/1/2016 00:10:40               284   \n",
       "5           672  7/1/2016 00:00:45  7/1/2016 00:11:57               459   \n",
       "6           466  7/1/2016 00:00:49  7/1/2016 00:08:35               128   \n",
       "7           556  7/1/2016 00:00:51  7/1/2016 00:10:07               433   \n",
       "8           767  7/1/2016 00:00:51  7/1/2016 00:13:39               254   \n",
       "9          1442  7/1/2016 00:00:54  7/1/2016 00:24:56               515   \n",
       "\n",
       "         start station name  start station latitude  start station longitude  \\\n",
       "0          W 20 St & 11 Ave               40.746745               -74.007756   \n",
       "1     Lafayette St & E 8 St               40.730287               -73.990765   \n",
       "2       N 8 St & Driggs Ave               40.717746               -73.956001   \n",
       "3          W 20 St & 11 Ave               40.746745               -74.007756   \n",
       "4     Greenwich Ave & 8 Ave               40.739017               -74.002638   \n",
       "5          W 20 St & 11 Ave               40.746745               -74.007756   \n",
       "6  MacDougal St & Prince St               40.727103               -74.002971   \n",
       "7        E 13 St & Avenue A               40.729554               -73.980572   \n",
       "8           W 11 St & 6 Ave               40.735324               -73.998004   \n",
       "9          W 43 St & 10 Ave               40.760094               -73.994618   \n",
       "\n",
       "   end station id             end station name  end station latitude  \\\n",
       "0             347  Greenwich St & W Houston St             40.728846   \n",
       "1             466              W 25 St & 6 Ave             40.743954   \n",
       "2            3107     Bedford Ave & Nassau Ave             40.723117   \n",
       "3             347  Greenwich St & W Houston St             40.728846   \n",
       "4             212      W 16 St & The High Line             40.743349   \n",
       "5             347  Greenwich St & W Houston St             40.728846   \n",
       "6             250   Lafayette St & Jersey St N             40.724561   \n",
       "7             284        Greenwich Ave & 8 Ave             40.739017   \n",
       "8             439               E 4 St & 2 Ave             40.726281   \n",
       "9             511           E 14 St & Avenue B             40.729387   \n",
       "\n",
       "   end station longitude  bikeid    usertype  birth year  gender  \n",
       "0             -74.008591   17431    Customer         NaN       0  \n",
       "1             -73.991449   24159  Subscriber      1984.0       1  \n",
       "2             -73.952123   16345  Subscriber      1986.0       2  \n",
       "3             -74.008591   25210    Customer         NaN       0  \n",
       "4             -74.006818   15514    Customer         NaN       0  \n",
       "5             -74.008591   15444  Subscriber      1991.0       1  \n",
       "6             -73.995653   14676  Subscriber      1989.0       1  \n",
       "7             -74.002638   25755  Subscriber      1989.0       1  \n",
       "8             -73.989780   18871  Subscriber      1976.0       1  \n",
       "9             -73.977724   20381  Subscriber      1994.0       2  "
      ]
     },
     "execution_count": 4,
     "metadata": {},
     "output_type": "execute_result"
    }
   ],
   "source": [
    "df.head(10)"
   ]
  },
  {
   "cell_type": "code",
   "execution_count": 5,
   "metadata": {},
   "outputs": [
    {
     "data": {
      "text/html": [
       "<div>\n",
       "<style scoped>\n",
       "    .dataframe tbody tr th:only-of-type {\n",
       "        vertical-align: middle;\n",
       "    }\n",
       "\n",
       "    .dataframe tbody tr th {\n",
       "        vertical-align: top;\n",
       "    }\n",
       "\n",
       "    .dataframe thead th {\n",
       "        text-align: right;\n",
       "    }\n",
       "</style>\n",
       "<table border=\"1\" class=\"dataframe\">\n",
       "  <thead>\n",
       "    <tr style=\"text-align: right;\">\n",
       "      <th></th>\n",
       "      <th>tripduration</th>\n",
       "      <th>start station id</th>\n",
       "      <th>start station latitude</th>\n",
       "      <th>start station longitude</th>\n",
       "      <th>end station id</th>\n",
       "      <th>end station latitude</th>\n",
       "      <th>end station longitude</th>\n",
       "      <th>bikeid</th>\n",
       "      <th>birth year</th>\n",
       "      <th>gender</th>\n",
       "    </tr>\n",
       "  </thead>\n",
       "  <tbody>\n",
       "    <tr>\n",
       "      <th>count</th>\n",
       "      <td>1.380110e+06</td>\n",
       "      <td>1.380110e+06</td>\n",
       "      <td>1.380110e+06</td>\n",
       "      <td>1.380110e+06</td>\n",
       "      <td>1.380110e+06</td>\n",
       "      <td>1.380110e+06</td>\n",
       "      <td>1.380110e+06</td>\n",
       "      <td>1.380110e+06</td>\n",
       "      <td>1.176515e+06</td>\n",
       "      <td>1.380110e+06</td>\n",
       "    </tr>\n",
       "    <tr>\n",
       "      <th>mean</th>\n",
       "      <td>1.000328e+03</td>\n",
       "      <td>1.007292e+03</td>\n",
       "      <td>4.073731e+01</td>\n",
       "      <td>-7.398689e+01</td>\n",
       "      <td>9.956551e+02</td>\n",
       "      <td>4.073686e+01</td>\n",
       "      <td>-7.398675e+01</td>\n",
       "      <td>2.108539e+04</td>\n",
       "      <td>1.978210e+03</td>\n",
       "      <td>1.065512e+00</td>\n",
       "    </tr>\n",
       "    <tr>\n",
       "      <th>std</th>\n",
       "      <td>1.373462e+04</td>\n",
       "      <td>1.138365e+03</td>\n",
       "      <td>2.282723e-02</td>\n",
       "      <td>1.643755e-02</td>\n",
       "      <td>1.130148e+03</td>\n",
       "      <td>8.082473e-02</td>\n",
       "      <td>1.417894e-01</td>\n",
       "      <td>3.630706e+03</td>\n",
       "      <td>1.156393e+01</td>\n",
       "      <td>6.005912e-01</td>\n",
       "    </tr>\n",
       "    <tr>\n",
       "      <th>min</th>\n",
       "      <td>6.100000e+01</td>\n",
       "      <td>7.200000e+01</td>\n",
       "      <td>4.064668e+01</td>\n",
       "      <td>-7.402545e+01</td>\n",
       "      <td>7.200000e+01</td>\n",
       "      <td>0.000000e+00</td>\n",
       "      <td>-7.406419e+01</td>\n",
       "      <td>1.452900e+04</td>\n",
       "      <td>1.885000e+03</td>\n",
       "      <td>0.000000e+00</td>\n",
       "    </tr>\n",
       "    <tr>\n",
       "      <th>25%</th>\n",
       "      <td>4.030000e+02</td>\n",
       "      <td>3.320000e+02</td>\n",
       "      <td>4.072066e+01</td>\n",
       "      <td>-7.399884e+01</td>\n",
       "      <td>3.300000e+02</td>\n",
       "      <td>4.072037e+01</td>\n",
       "      <td>-7.399915e+01</td>\n",
       "      <td>1.787800e+04</td>\n",
       "      <td>1.970000e+03</td>\n",
       "      <td>1.000000e+00</td>\n",
       "    </tr>\n",
       "    <tr>\n",
       "      <th>50%</th>\n",
       "      <td>6.720000e+02</td>\n",
       "      <td>4.580000e+02</td>\n",
       "      <td>4.073726e+01</td>\n",
       "      <td>-7.398889e+01</td>\n",
       "      <td>4.570000e+02</td>\n",
       "      <td>4.073705e+01</td>\n",
       "      <td>-7.398890e+01</td>\n",
       "      <td>2.127500e+04</td>\n",
       "      <td>1.981000e+03</td>\n",
       "      <td>1.000000e+00</td>\n",
       "    </tr>\n",
       "    <tr>\n",
       "      <th>75%</th>\n",
       "      <td>1.143000e+03</td>\n",
       "      <td>5.390000e+02</td>\n",
       "      <td>4.075456e+01</td>\n",
       "      <td>-7.397769e+01</td>\n",
       "      <td>5.370000e+02</td>\n",
       "      <td>4.075300e+01</td>\n",
       "      <td>-7.397771e+01</td>\n",
       "      <td>2.491200e+04</td>\n",
       "      <td>1.987000e+03</td>\n",
       "      <td>1.000000e+00</td>\n",
       "    </tr>\n",
       "    <tr>\n",
       "      <th>max</th>\n",
       "      <td>6.707533e+06</td>\n",
       "      <td>3.266000e+03</td>\n",
       "      <td>4.078721e+01</td>\n",
       "      <td>-7.392850e+01</td>\n",
       "      <td>3.357000e+03</td>\n",
       "      <td>4.080084e+01</td>\n",
       "      <td>0.000000e+00</td>\n",
       "      <td>2.615000e+04</td>\n",
       "      <td>2.000000e+03</td>\n",
       "      <td>2.000000e+00</td>\n",
       "    </tr>\n",
       "  </tbody>\n",
       "</table>\n",
       "</div>"
      ],
      "text/plain": [
       "       tripduration  start station id  start station latitude  \\\n",
       "count  1.380110e+06      1.380110e+06            1.380110e+06   \n",
       "mean   1.000328e+03      1.007292e+03            4.073731e+01   \n",
       "std    1.373462e+04      1.138365e+03            2.282723e-02   \n",
       "min    6.100000e+01      7.200000e+01            4.064668e+01   \n",
       "25%    4.030000e+02      3.320000e+02            4.072066e+01   \n",
       "50%    6.720000e+02      4.580000e+02            4.073726e+01   \n",
       "75%    1.143000e+03      5.390000e+02            4.075456e+01   \n",
       "max    6.707533e+06      3.266000e+03            4.078721e+01   \n",
       "\n",
       "       start station longitude  end station id  end station latitude  \\\n",
       "count             1.380110e+06    1.380110e+06          1.380110e+06   \n",
       "mean             -7.398689e+01    9.956551e+02          4.073686e+01   \n",
       "std               1.643755e-02    1.130148e+03          8.082473e-02   \n",
       "min              -7.402545e+01    7.200000e+01          0.000000e+00   \n",
       "25%              -7.399884e+01    3.300000e+02          4.072037e+01   \n",
       "50%              -7.398889e+01    4.570000e+02          4.073705e+01   \n",
       "75%              -7.397769e+01    5.370000e+02          4.075300e+01   \n",
       "max              -7.392850e+01    3.357000e+03          4.080084e+01   \n",
       "\n",
       "       end station longitude        bikeid    birth year        gender  \n",
       "count           1.380110e+06  1.380110e+06  1.176515e+06  1.380110e+06  \n",
       "mean           -7.398675e+01  2.108539e+04  1.978210e+03  1.065512e+00  \n",
       "std             1.417894e-01  3.630706e+03  1.156393e+01  6.005912e-01  \n",
       "min            -7.406419e+01  1.452900e+04  1.885000e+03  0.000000e+00  \n",
       "25%            -7.399915e+01  1.787800e+04  1.970000e+03  1.000000e+00  \n",
       "50%            -7.398890e+01  2.127500e+04  1.981000e+03  1.000000e+00  \n",
       "75%            -7.397771e+01  2.491200e+04  1.987000e+03  1.000000e+00  \n",
       "max             0.000000e+00  2.615000e+04  2.000000e+03  2.000000e+00  "
      ]
     },
     "execution_count": 5,
     "metadata": {},
     "output_type": "execute_result"
    }
   ],
   "source": [
    "df.describe()"
   ]
  },
  {
   "cell_type": "code",
   "execution_count": 6,
   "metadata": {},
   "outputs": [
    {
     "name": "stdout",
     "output_type": "stream",
     "text": [
      "<class 'pandas.core.frame.DataFrame'>\n",
      "RangeIndex: 1380110 entries, 0 to 1380109\n",
      "Data columns (total 15 columns):\n",
      "tripduration               1380110 non-null int64\n",
      "starttime                  1380110 non-null object\n",
      "stoptime                   1380110 non-null object\n",
      "start station id           1380110 non-null int64\n",
      "start station name         1380110 non-null object\n",
      "start station latitude     1380110 non-null float64\n",
      "start station longitude    1380110 non-null float64\n",
      "end station id             1380110 non-null int64\n",
      "end station name           1380110 non-null object\n",
      "end station latitude       1380110 non-null float64\n",
      "end station longitude      1380110 non-null float64\n",
      "bikeid                     1380110 non-null int64\n",
      "usertype                   1380110 non-null object\n",
      "birth year                 1176515 non-null float64\n",
      "gender                     1380110 non-null int64\n",
      "dtypes: float64(5), int64(5), object(5)\n",
      "memory usage: 157.9+ MB\n"
     ]
    }
   ],
   "source": [
    "df.info()"
   ]
  },
  {
   "cell_type": "code",
   "execution_count": 7,
   "metadata": {},
   "outputs": [
    {
     "data": {
      "text/html": [
       "<div>\n",
       "<style scoped>\n",
       "    .dataframe tbody tr th:only-of-type {\n",
       "        vertical-align: middle;\n",
       "    }\n",
       "\n",
       "    .dataframe tbody tr th {\n",
       "        vertical-align: top;\n",
       "    }\n",
       "\n",
       "    .dataframe thead th {\n",
       "        text-align: right;\n",
       "    }\n",
       "</style>\n",
       "<table border=\"1\" class=\"dataframe\">\n",
       "  <thead>\n",
       "    <tr style=\"text-align: right;\">\n",
       "      <th></th>\n",
       "      <th>tripduration</th>\n",
       "      <th>starttime</th>\n",
       "      <th>stoptime</th>\n",
       "      <th>start station id</th>\n",
       "      <th>start station name</th>\n",
       "      <th>start station latitude</th>\n",
       "      <th>start station longitude</th>\n",
       "      <th>end station id</th>\n",
       "      <th>end station name</th>\n",
       "      <th>end station latitude</th>\n",
       "      <th>end station longitude</th>\n",
       "      <th>bikeid</th>\n",
       "      <th>usertype</th>\n",
       "      <th>birth year</th>\n",
       "      <th>gender</th>\n",
       "    </tr>\n",
       "  </thead>\n",
       "  <tbody>\n",
       "    <tr>\n",
       "      <th>1380100</th>\n",
       "      <td>423</td>\n",
       "      <td>7/31/2016 23:57:52</td>\n",
       "      <td>8/1/2016 00:04:55</td>\n",
       "      <td>494</td>\n",
       "      <td>W 26 St &amp; 8 Ave</td>\n",
       "      <td>40.747348</td>\n",
       "      <td>-73.997236</td>\n",
       "      <td>505</td>\n",
       "      <td>6 Ave &amp; W 33 St</td>\n",
       "      <td>40.749013</td>\n",
       "      <td>-73.988484</td>\n",
       "      <td>22200</td>\n",
       "      <td>Subscriber</td>\n",
       "      <td>1977.0</td>\n",
       "      <td>2</td>\n",
       "    </tr>\n",
       "    <tr>\n",
       "      <th>1380101</th>\n",
       "      <td>340</td>\n",
       "      <td>7/31/2016 23:57:58</td>\n",
       "      <td>8/1/2016 00:03:38</td>\n",
       "      <td>409</td>\n",
       "      <td>DeKalb Ave &amp; Skillman St</td>\n",
       "      <td>40.690649</td>\n",
       "      <td>-73.956431</td>\n",
       "      <td>436</td>\n",
       "      <td>Hancock St &amp; Bedford Ave</td>\n",
       "      <td>40.682166</td>\n",
       "      <td>-73.953990</td>\n",
       "      <td>23044</td>\n",
       "      <td>Subscriber</td>\n",
       "      <td>1974.0</td>\n",
       "      <td>0</td>\n",
       "    </tr>\n",
       "    <tr>\n",
       "      <th>1380102</th>\n",
       "      <td>1306</td>\n",
       "      <td>7/31/2016 23:58:02</td>\n",
       "      <td>8/1/2016 00:19:49</td>\n",
       "      <td>470</td>\n",
       "      <td>W 20 St &amp; 8 Ave</td>\n",
       "      <td>40.743453</td>\n",
       "      <td>-74.000040</td>\n",
       "      <td>453</td>\n",
       "      <td>W 22 St &amp; 8 Ave</td>\n",
       "      <td>40.744751</td>\n",
       "      <td>-73.999154</td>\n",
       "      <td>25758</td>\n",
       "      <td>Subscriber</td>\n",
       "      <td>1964.0</td>\n",
       "      <td>1</td>\n",
       "    </tr>\n",
       "    <tr>\n",
       "      <th>1380103</th>\n",
       "      <td>494</td>\n",
       "      <td>7/31/2016 23:58:25</td>\n",
       "      <td>8/1/2016 00:06:39</td>\n",
       "      <td>468</td>\n",
       "      <td>Broadway &amp; W 55 St</td>\n",
       "      <td>40.765265</td>\n",
       "      <td>-73.981923</td>\n",
       "      <td>514</td>\n",
       "      <td>12 Ave &amp; W 40 St</td>\n",
       "      <td>40.760875</td>\n",
       "      <td>-74.002777</td>\n",
       "      <td>19931</td>\n",
       "      <td>Subscriber</td>\n",
       "      <td>1973.0</td>\n",
       "      <td>2</td>\n",
       "    </tr>\n",
       "    <tr>\n",
       "      <th>1380104</th>\n",
       "      <td>372</td>\n",
       "      <td>7/31/2016 23:58:27</td>\n",
       "      <td>8/1/2016 00:04:40</td>\n",
       "      <td>366</td>\n",
       "      <td>Clinton Ave &amp; Myrtle Ave</td>\n",
       "      <td>40.693261</td>\n",
       "      <td>-73.968896</td>\n",
       "      <td>243</td>\n",
       "      <td>Fulton St &amp; Rockwell Pl</td>\n",
       "      <td>40.688226</td>\n",
       "      <td>-73.979382</td>\n",
       "      <td>15211</td>\n",
       "      <td>Subscriber</td>\n",
       "      <td>1988.0</td>\n",
       "      <td>1</td>\n",
       "    </tr>\n",
       "    <tr>\n",
       "      <th>1380105</th>\n",
       "      <td>593</td>\n",
       "      <td>7/31/2016 23:59:07</td>\n",
       "      <td>8/1/2016 00:09:01</td>\n",
       "      <td>349</td>\n",
       "      <td>Rivington St &amp; Ridge St</td>\n",
       "      <td>40.718502</td>\n",
       "      <td>-73.983299</td>\n",
       "      <td>545</td>\n",
       "      <td>E 23 St &amp; 1 Ave</td>\n",
       "      <td>40.736502</td>\n",
       "      <td>-73.978095</td>\n",
       "      <td>25647</td>\n",
       "      <td>Subscriber</td>\n",
       "      <td>1991.0</td>\n",
       "      <td>1</td>\n",
       "    </tr>\n",
       "    <tr>\n",
       "      <th>1380106</th>\n",
       "      <td>1056</td>\n",
       "      <td>7/31/2016 23:59:13</td>\n",
       "      <td>8/1/2016 00:16:49</td>\n",
       "      <td>487</td>\n",
       "      <td>E 20 St &amp; FDR Drive</td>\n",
       "      <td>40.733143</td>\n",
       "      <td>-73.975739</td>\n",
       "      <td>225</td>\n",
       "      <td>W 14 St &amp; The High Line</td>\n",
       "      <td>40.741951</td>\n",
       "      <td>-74.008030</td>\n",
       "      <td>24362</td>\n",
       "      <td>Subscriber</td>\n",
       "      <td>1992.0</td>\n",
       "      <td>1</td>\n",
       "    </tr>\n",
       "    <tr>\n",
       "      <th>1380107</th>\n",
       "      <td>845</td>\n",
       "      <td>7/31/2016 23:59:14</td>\n",
       "      <td>8/1/2016 00:13:20</td>\n",
       "      <td>284</td>\n",
       "      <td>Greenwich Ave &amp; 8 Ave</td>\n",
       "      <td>40.739017</td>\n",
       "      <td>-74.002638</td>\n",
       "      <td>116</td>\n",
       "      <td>W 17 St &amp; 8 Ave</td>\n",
       "      <td>40.741776</td>\n",
       "      <td>-74.001497</td>\n",
       "      <td>22503</td>\n",
       "      <td>Subscriber</td>\n",
       "      <td>1988.0</td>\n",
       "      <td>2</td>\n",
       "    </tr>\n",
       "    <tr>\n",
       "      <th>1380108</th>\n",
       "      <td>428</td>\n",
       "      <td>7/31/2016 23:59:53</td>\n",
       "      <td>8/1/2016 00:07:01</td>\n",
       "      <td>387</td>\n",
       "      <td>Centre St &amp; Chambers St</td>\n",
       "      <td>40.712733</td>\n",
       "      <td>-74.004607</td>\n",
       "      <td>2008</td>\n",
       "      <td>Little West St &amp; 1 Pl</td>\n",
       "      <td>40.705693</td>\n",
       "      <td>-74.016777</td>\n",
       "      <td>26015</td>\n",
       "      <td>Subscriber</td>\n",
       "      <td>1982.0</td>\n",
       "      <td>1</td>\n",
       "    </tr>\n",
       "    <tr>\n",
       "      <th>1380109</th>\n",
       "      <td>330</td>\n",
       "      <td>7/31/2016 23:59:59</td>\n",
       "      <td>8/1/2016 00:05:29</td>\n",
       "      <td>507</td>\n",
       "      <td>E 25 St &amp; 2 Ave</td>\n",
       "      <td>40.739126</td>\n",
       "      <td>-73.979738</td>\n",
       "      <td>433</td>\n",
       "      <td>E 13 St &amp; Avenue A</td>\n",
       "      <td>40.729554</td>\n",
       "      <td>-73.980572</td>\n",
       "      <td>24263</td>\n",
       "      <td>Subscriber</td>\n",
       "      <td>1995.0</td>\n",
       "      <td>1</td>\n",
       "    </tr>\n",
       "  </tbody>\n",
       "</table>\n",
       "</div>"
      ],
      "text/plain": [
       "         tripduration           starttime           stoptime  \\\n",
       "1380100           423  7/31/2016 23:57:52  8/1/2016 00:04:55   \n",
       "1380101           340  7/31/2016 23:57:58  8/1/2016 00:03:38   \n",
       "1380102          1306  7/31/2016 23:58:02  8/1/2016 00:19:49   \n",
       "1380103           494  7/31/2016 23:58:25  8/1/2016 00:06:39   \n",
       "1380104           372  7/31/2016 23:58:27  8/1/2016 00:04:40   \n",
       "1380105           593  7/31/2016 23:59:07  8/1/2016 00:09:01   \n",
       "1380106          1056  7/31/2016 23:59:13  8/1/2016 00:16:49   \n",
       "1380107           845  7/31/2016 23:59:14  8/1/2016 00:13:20   \n",
       "1380108           428  7/31/2016 23:59:53  8/1/2016 00:07:01   \n",
       "1380109           330  7/31/2016 23:59:59  8/1/2016 00:05:29   \n",
       "\n",
       "         start station id        start station name  start station latitude  \\\n",
       "1380100               494           W 26 St & 8 Ave               40.747348   \n",
       "1380101               409  DeKalb Ave & Skillman St               40.690649   \n",
       "1380102               470           W 20 St & 8 Ave               40.743453   \n",
       "1380103               468        Broadway & W 55 St               40.765265   \n",
       "1380104               366  Clinton Ave & Myrtle Ave               40.693261   \n",
       "1380105               349   Rivington St & Ridge St               40.718502   \n",
       "1380106               487       E 20 St & FDR Drive               40.733143   \n",
       "1380107               284     Greenwich Ave & 8 Ave               40.739017   \n",
       "1380108               387   Centre St & Chambers St               40.712733   \n",
       "1380109               507           E 25 St & 2 Ave               40.739126   \n",
       "\n",
       "         start station longitude  end station id          end station name  \\\n",
       "1380100               -73.997236             505           6 Ave & W 33 St   \n",
       "1380101               -73.956431             436  Hancock St & Bedford Ave   \n",
       "1380102               -74.000040             453           W 22 St & 8 Ave   \n",
       "1380103               -73.981923             514          12 Ave & W 40 St   \n",
       "1380104               -73.968896             243   Fulton St & Rockwell Pl   \n",
       "1380105               -73.983299             545           E 23 St & 1 Ave   \n",
       "1380106               -73.975739             225   W 14 St & The High Line   \n",
       "1380107               -74.002638             116           W 17 St & 8 Ave   \n",
       "1380108               -74.004607            2008     Little West St & 1 Pl   \n",
       "1380109               -73.979738             433        E 13 St & Avenue A   \n",
       "\n",
       "         end station latitude  end station longitude  bikeid    usertype  \\\n",
       "1380100             40.749013             -73.988484   22200  Subscriber   \n",
       "1380101             40.682166             -73.953990   23044  Subscriber   \n",
       "1380102             40.744751             -73.999154   25758  Subscriber   \n",
       "1380103             40.760875             -74.002777   19931  Subscriber   \n",
       "1380104             40.688226             -73.979382   15211  Subscriber   \n",
       "1380105             40.736502             -73.978095   25647  Subscriber   \n",
       "1380106             40.741951             -74.008030   24362  Subscriber   \n",
       "1380107             40.741776             -74.001497   22503  Subscriber   \n",
       "1380108             40.705693             -74.016777   26015  Subscriber   \n",
       "1380109             40.729554             -73.980572   24263  Subscriber   \n",
       "\n",
       "         birth year  gender  \n",
       "1380100      1977.0       2  \n",
       "1380101      1974.0       0  \n",
       "1380102      1964.0       1  \n",
       "1380103      1973.0       2  \n",
       "1380104      1988.0       1  \n",
       "1380105      1991.0       1  \n",
       "1380106      1992.0       1  \n",
       "1380107      1988.0       2  \n",
       "1380108      1982.0       1  \n",
       "1380109      1995.0       1  "
      ]
     },
     "execution_count": 7,
     "metadata": {},
     "output_type": "execute_result"
    }
   ],
   "source": [
    "df.tail(10)"
   ]
  },
  {
   "cell_type": "code",
   "execution_count": 8,
   "metadata": {},
   "outputs": [],
   "source": [
    "drop_cols = ['stoptime', 'start station id',\n",
    "       'start station name', 'start station latitude',\n",
    "       'start station longitude', 'end station id', 'end station name',\n",
    "       'end station latitude', 'end station longitude', 'bikeid', 'birth year', 'gender']"
   ]
  },
  {
   "cell_type": "code",
   "execution_count": 9,
   "metadata": {},
   "outputs": [],
   "source": [
    "copy = df.copy(deep=True)"
   ]
  },
  {
   "cell_type": "code",
   "execution_count": 10,
   "metadata": {},
   "outputs": [],
   "source": [
    "df.drop(['stoptime', 'start station id',\n",
    "       'start station name', 'start station latitude',\n",
    "       'start station longitude', 'end station id', 'end station name',\n",
    "       'end station latitude', 'end station longitude', 'bikeid',\n",
    "       'birth year', 'gender'], axis=1, inplace=True)"
   ]
  },
  {
   "cell_type": "code",
   "execution_count": 11,
   "metadata": {},
   "outputs": [
    {
     "data": {
      "text/html": [
       "<div>\n",
       "<style scoped>\n",
       "    .dataframe tbody tr th:only-of-type {\n",
       "        vertical-align: middle;\n",
       "    }\n",
       "\n",
       "    .dataframe tbody tr th {\n",
       "        vertical-align: top;\n",
       "    }\n",
       "\n",
       "    .dataframe thead th {\n",
       "        text-align: right;\n",
       "    }\n",
       "</style>\n",
       "<table border=\"1\" class=\"dataframe\">\n",
       "  <thead>\n",
       "    <tr style=\"text-align: right;\">\n",
       "      <th></th>\n",
       "      <th>tripduration</th>\n",
       "      <th>starttime</th>\n",
       "      <th>usertype</th>\n",
       "    </tr>\n",
       "  </thead>\n",
       "  <tbody>\n",
       "    <tr>\n",
       "      <th>0</th>\n",
       "      <td>704</td>\n",
       "      <td>7/1/2016 00:00:02</td>\n",
       "      <td>Customer</td>\n",
       "    </tr>\n",
       "    <tr>\n",
       "      <th>1</th>\n",
       "      <td>492</td>\n",
       "      <td>7/1/2016 00:00:18</td>\n",
       "      <td>Subscriber</td>\n",
       "    </tr>\n",
       "    <tr>\n",
       "      <th>2</th>\n",
       "      <td>191</td>\n",
       "      <td>7/1/2016 00:00:19</td>\n",
       "      <td>Subscriber</td>\n",
       "    </tr>\n",
       "    <tr>\n",
       "      <th>3</th>\n",
       "      <td>687</td>\n",
       "      <td>7/1/2016 00:00:24</td>\n",
       "      <td>Customer</td>\n",
       "    </tr>\n",
       "    <tr>\n",
       "      <th>4</th>\n",
       "      <td>609</td>\n",
       "      <td>7/1/2016 00:00:31</td>\n",
       "      <td>Customer</td>\n",
       "    </tr>\n",
       "    <tr>\n",
       "      <th>5</th>\n",
       "      <td>672</td>\n",
       "      <td>7/1/2016 00:00:45</td>\n",
       "      <td>Subscriber</td>\n",
       "    </tr>\n",
       "    <tr>\n",
       "      <th>6</th>\n",
       "      <td>466</td>\n",
       "      <td>7/1/2016 00:00:49</td>\n",
       "      <td>Subscriber</td>\n",
       "    </tr>\n",
       "    <tr>\n",
       "      <th>7</th>\n",
       "      <td>556</td>\n",
       "      <td>7/1/2016 00:00:51</td>\n",
       "      <td>Subscriber</td>\n",
       "    </tr>\n",
       "    <tr>\n",
       "      <th>8</th>\n",
       "      <td>767</td>\n",
       "      <td>7/1/2016 00:00:51</td>\n",
       "      <td>Subscriber</td>\n",
       "    </tr>\n",
       "    <tr>\n",
       "      <th>9</th>\n",
       "      <td>1442</td>\n",
       "      <td>7/1/2016 00:00:54</td>\n",
       "      <td>Subscriber</td>\n",
       "    </tr>\n",
       "  </tbody>\n",
       "</table>\n",
       "</div>"
      ],
      "text/plain": [
       "   tripduration          starttime    usertype\n",
       "0           704  7/1/2016 00:00:02    Customer\n",
       "1           492  7/1/2016 00:00:18  Subscriber\n",
       "2           191  7/1/2016 00:00:19  Subscriber\n",
       "3           687  7/1/2016 00:00:24    Customer\n",
       "4           609  7/1/2016 00:00:31    Customer\n",
       "5           672  7/1/2016 00:00:45  Subscriber\n",
       "6           466  7/1/2016 00:00:49  Subscriber\n",
       "7           556  7/1/2016 00:00:51  Subscriber\n",
       "8           767  7/1/2016 00:00:51  Subscriber\n",
       "9          1442  7/1/2016 00:00:54  Subscriber"
      ]
     },
     "execution_count": 11,
     "metadata": {},
     "output_type": "execute_result"
    }
   ],
   "source": [
    "df.head(10)"
   ]
  },
  {
   "cell_type": "code",
   "execution_count": 12,
   "metadata": {},
   "outputs": [
    {
     "data": {
      "text/html": [
       "<div>\n",
       "<style scoped>\n",
       "    .dataframe tbody tr th:only-of-type {\n",
       "        vertical-align: middle;\n",
       "    }\n",
       "\n",
       "    .dataframe tbody tr th {\n",
       "        vertical-align: top;\n",
       "    }\n",
       "\n",
       "    .dataframe thead th {\n",
       "        text-align: right;\n",
       "    }\n",
       "</style>\n",
       "<table border=\"1\" class=\"dataframe\">\n",
       "  <thead>\n",
       "    <tr style=\"text-align: right;\">\n",
       "      <th></th>\n",
       "      <th>tripduration</th>\n",
       "    </tr>\n",
       "  </thead>\n",
       "  <tbody>\n",
       "    <tr>\n",
       "      <th>count</th>\n",
       "      <td>1.380110e+06</td>\n",
       "    </tr>\n",
       "    <tr>\n",
       "      <th>mean</th>\n",
       "      <td>1.000328e+03</td>\n",
       "    </tr>\n",
       "    <tr>\n",
       "      <th>std</th>\n",
       "      <td>1.373462e+04</td>\n",
       "    </tr>\n",
       "    <tr>\n",
       "      <th>min</th>\n",
       "      <td>6.100000e+01</td>\n",
       "    </tr>\n",
       "    <tr>\n",
       "      <th>25%</th>\n",
       "      <td>4.030000e+02</td>\n",
       "    </tr>\n",
       "    <tr>\n",
       "      <th>50%</th>\n",
       "      <td>6.720000e+02</td>\n",
       "    </tr>\n",
       "    <tr>\n",
       "      <th>75%</th>\n",
       "      <td>1.143000e+03</td>\n",
       "    </tr>\n",
       "    <tr>\n",
       "      <th>max</th>\n",
       "      <td>6.707533e+06</td>\n",
       "    </tr>\n",
       "  </tbody>\n",
       "</table>\n",
       "</div>"
      ],
      "text/plain": [
       "       tripduration\n",
       "count  1.380110e+06\n",
       "mean   1.000328e+03\n",
       "std    1.373462e+04\n",
       "min    6.100000e+01\n",
       "25%    4.030000e+02\n",
       "50%    6.720000e+02\n",
       "75%    1.143000e+03\n",
       "max    6.707533e+06"
      ]
     },
     "execution_count": 12,
     "metadata": {},
     "output_type": "execute_result"
    }
   ],
   "source": [
    "df.describe()"
   ]
  },
  {
   "cell_type": "code",
   "execution_count": 13,
   "metadata": {},
   "outputs": [
    {
     "name": "stdout",
     "output_type": "stream",
     "text": [
      "<class 'pandas.core.frame.DataFrame'>\n",
      "RangeIndex: 1380110 entries, 0 to 1380109\n",
      "Data columns (total 3 columns):\n",
      "tripduration    1380110 non-null int64\n",
      "starttime       1380110 non-null object\n",
      "usertype        1380110 non-null object\n",
      "dtypes: int64(1), object(2)\n",
      "memory usage: 31.6+ MB\n"
     ]
    }
   ],
   "source": [
    "df.info()"
   ]
  },
  {
   "cell_type": "code",
   "execution_count": 14,
   "metadata": {},
   "outputs": [
    {
     "data": {
      "text/plain": [
       "Text(0.5, 1.0, 'Average Trip Duration vs. User Types')"
      ]
     },
     "execution_count": 14,
     "metadata": {},
     "output_type": "execute_result"
    },
    {
     "data": {
      "text/plain": [
       "<Figure size 720x432 with 0 Axes>"
      ]
     },
     "metadata": {},
     "output_type": "display_data"
    },
    {
     "data": {
      "image/png": "[encoded data removed]",
      "text/plain": [
       "<Figure size 432x288 with 1 Axes>"
      ]
     },
     "metadata": {
      "needs_background": "light"
     },
     "output_type": "display_data"
    }
   ],
   "source": [
    "import matplotlib.pyplot as plt \n",
    "fig = plt.figure(figsize=(10,6))\n",
    "users_mean_travel_time = df.groupby(['usertype']).mean()\n",
    "users_mean_travel_time.plot(kind='bar',rot=360)\n",
    "plt.grid(b=True)\n",
    "plt.xlabel('User Type')\n",
    "plt.ylabel('Average Trip Time')\n",
    "plt.title('Average Trip Duration vs. User Types')"
   ]
  },
  {
   "cell_type": "markdown",
   "metadata": {},
   "source": [
    "### Figure 1: Average Trip Duration vs. User Type in 2016.7\n",
    "#### We can see clearly that the average trip duration of customer is greater than that of subscriber."
   ]
  },
  {
   "cell_type": "code",
   "execution_count": 15,
   "metadata": {},
   "outputs": [
    {
     "data": {
      "text/plain": [
       "Text(0.5, 1.0, 'Std Trip Duration vs. User Types')"
      ]
     },
     "execution_count": 15,
     "metadata": {},
     "output_type": "execute_result"
    },
    {
     "data": {
      "text/plain": [
       "<Figure size 720x432 with 0 Axes>"
      ]
     },
     "metadata": {},
     "output_type": "display_data"
    },
    {
     "data": {
      "image/png": "[encoded data removed]",
      "text/plain": [
       "<Figure size 432x288 with 1 Axes>"
      ]
     },
     "metadata": {
      "needs_background": "light"
     },
     "output_type": "display_data"
    }
   ],
   "source": [
    "fig = plt.figure(figsize=(10,6))\n",
    "users_mean_travel_time = df.groupby(['usertype']).std()\n",
    "users_mean_travel_time.plot(kind='bar',rot=360)\n",
    "plt.grid(b=True)\n",
    "plt.xlabel('User Type')\n",
    "plt.ylabel('Standard Deviation')\n",
    "plt.title('Std Trip Duration vs. User Types')"
   ]
  },
  {
   "cell_type": "markdown",
   "metadata": {},
   "source": [
    "### Figure 2: Trip Duration Standard Deviation vs. User Type in 2016.7"
   ]
  },
  {
   "cell_type": "markdown",
   "metadata": {},
   "source": [
    "## T-Test for Differences in Two Sample Means\n",
    "### Despite the fact we cannot assume a Gaussian distribution, but as the sample size increases, the assumption of Gaussianity is likely to hold. Therefore, I decide to perform a t-test."
   ]
  },
  {
   "cell_type": "code",
   "execution_count": 16,
   "metadata": {},
   "outputs": [],
   "source": [
    "from scipy import stats\n",
    "# grab each user group\n",
    "df_sub = df[df['usertype'] == 'Subscriber']\n",
    "df_cus = df[df['usertype'] == 'Customer']"
   ]
  },
  {
   "cell_type": "code",
   "execution_count": 17,
   "metadata": {},
   "outputs": [
    {
     "data": {
      "text/plain": [
       "(201891, 3)"
      ]
     },
     "execution_count": 17,
     "metadata": {},
     "output_type": "execute_result"
    }
   ],
   "source": [
    "df_cus.shape"
   ]
  },
  {
   "cell_type": "code",
   "execution_count": 18,
   "metadata": {},
   "outputs": [
    {
     "data": {
      "text/plain": [
       "(1178219, 3)"
      ]
     },
     "execution_count": 18,
     "metadata": {},
     "output_type": "execute_result"
    }
   ],
   "source": [
    "df_sub.shape"
   ]
  },
  {
   "cell_type": "code",
   "execution_count": 19,
   "metadata": {},
   "outputs": [
    {
     "data": {
      "text/html": [
       "<div>\n",
       "<style scoped>\n",
       "    .dataframe tbody tr th:only-of-type {\n",
       "        vertical-align: middle;\n",
       "    }\n",
       "\n",
       "    .dataframe tbody tr th {\n",
       "        vertical-align: top;\n",
       "    }\n",
       "\n",
       "    .dataframe thead th {\n",
       "        text-align: right;\n",
       "    }\n",
       "</style>\n",
       "<table border=\"1\" class=\"dataframe\">\n",
       "  <thead>\n",
       "    <tr style=\"text-align: right;\">\n",
       "      <th></th>\n",
       "      <th>tripduration</th>\n",
       "    </tr>\n",
       "  </thead>\n",
       "  <tbody>\n",
       "    <tr>\n",
       "      <th>count</th>\n",
       "      <td>2.018910e+05</td>\n",
       "    </tr>\n",
       "    <tr>\n",
       "      <th>mean</th>\n",
       "      <td>2.009132e+03</td>\n",
       "    </tr>\n",
       "    <tr>\n",
       "      <th>std</th>\n",
       "      <td>3.132552e+04</td>\n",
       "    </tr>\n",
       "    <tr>\n",
       "      <th>min</th>\n",
       "      <td>6.100000e+01</td>\n",
       "    </tr>\n",
       "    <tr>\n",
       "      <th>25%</th>\n",
       "      <td>8.300000e+02</td>\n",
       "    </tr>\n",
       "    <tr>\n",
       "      <th>50%</th>\n",
       "      <td>1.270000e+03</td>\n",
       "    </tr>\n",
       "    <tr>\n",
       "      <th>75%</th>\n",
       "      <td>1.735000e+03</td>\n",
       "    </tr>\n",
       "    <tr>\n",
       "      <th>max</th>\n",
       "      <td>6.707533e+06</td>\n",
       "    </tr>\n",
       "  </tbody>\n",
       "</table>\n",
       "</div>"
      ],
      "text/plain": [
       "       tripduration\n",
       "count  2.018910e+05\n",
       "mean   2.009132e+03\n",
       "std    3.132552e+04\n",
       "min    6.100000e+01\n",
       "25%    8.300000e+02\n",
       "50%    1.270000e+03\n",
       "75%    1.735000e+03\n",
       "max    6.707533e+06"
      ]
     },
     "execution_count": 19,
     "metadata": {},
     "output_type": "execute_result"
    }
   ],
   "source": [
    "df_cus.describe()"
   ]
  },
  {
   "cell_type": "code",
   "execution_count": 26,
   "metadata": {},
   "outputs": [
    {
     "data": {
      "text/html": [
       "<div>\n",
       "<style scoped>\n",
       "    .dataframe tbody tr th:only-of-type {\n",
       "        vertical-align: middle;\n",
       "    }\n",
       "\n",
       "    .dataframe tbody tr th {\n",
       "        vertical-align: top;\n",
       "    }\n",
       "\n",
       "    .dataframe thead th {\n",
       "        text-align: right;\n",
       "    }\n",
       "</style>\n",
       "<table border=\"1\" class=\"dataframe\">\n",
       "  <thead>\n",
       "    <tr style=\"text-align: right;\">\n",
       "      <th></th>\n",
       "      <th>tripduration</th>\n",
       "    </tr>\n",
       "  </thead>\n",
       "  <tbody>\n",
       "    <tr>\n",
       "      <th>count</th>\n",
       "      <td>1.178219e+06</td>\n",
       "    </tr>\n",
       "    <tr>\n",
       "      <th>mean</th>\n",
       "      <td>8.274666e+02</td>\n",
       "    </tr>\n",
       "    <tr>\n",
       "      <th>std</th>\n",
       "      <td>7.253536e+03</td>\n",
       "    </tr>\n",
       "    <tr>\n",
       "      <th>min</th>\n",
       "      <td>6.100000e+01</td>\n",
       "    </tr>\n",
       "    <tr>\n",
       "      <th>25%</th>\n",
       "      <td>3.750000e+02</td>\n",
       "    </tr>\n",
       "    <tr>\n",
       "      <th>50%</th>\n",
       "      <td>6.070000e+02</td>\n",
       "    </tr>\n",
       "    <tr>\n",
       "      <th>75%</th>\n",
       "      <td>9.970000e+02</td>\n",
       "    </tr>\n",
       "    <tr>\n",
       "      <th>max</th>\n",
       "      <td>5.700729e+06</td>\n",
       "    </tr>\n",
       "  </tbody>\n",
       "</table>\n",
       "</div>"
      ],
      "text/plain": [
       "       tripduration\n",
       "count  1.178219e+06\n",
       "mean   8.274666e+02\n",
       "std    7.253536e+03\n",
       "min    6.100000e+01\n",
       "25%    3.750000e+02\n",
       "50%    6.070000e+02\n",
       "75%    9.970000e+02\n",
       "max    5.700729e+06"
      ]
     },
     "execution_count": 26,
     "metadata": {},
     "output_type": "execute_result"
    }
   ],
   "source": [
    "df_sub.describe()"
   ]
  },
  {
   "cell_type": "code",
   "execution_count": 29,
   "metadata": {},
   "outputs": [
    {
     "name": "stdout",
     "output_type": "stream",
     "text": [
      "We need to take a look at the statistical significance before we reject the null hypothesis.\n"
     ]
    }
   ],
   "source": [
    "# calculate the difference between customers and subscribers\n",
    "diff_cus_sub = df_cus.tripduration.mean() - df_sub.tripduration.mean()\n",
    "if diff_cus_sub <= 0:\n",
    "    print(\"We are done. Null hypothesis is true.\")\n",
    "else:\n",
    "    print(\"We need to take a look at the statistical significance before we reject the null hypothesis.\")"
   ]
  },
  {
   "cell_type": "code",
   "execution_count": 31,
   "metadata": {},
   "outputs": [
    {
     "data": {
      "text/plain": [
       "Ttest_indResult(statistic=16.87208922402638, pvalue=7.972056432072256e-64)"
      ]
     },
     "execution_count": 31,
     "metadata": {},
     "output_type": "execute_result"
    }
   ],
   "source": [
    "# Now make use of the T-Test for two sample means\n",
    "stats.ttest_ind(df_cus.tripduration, df_sub.tripduration, equal_var = False)"
   ]
  },
  {
   "cell_type": "markdown",
   "metadata": {},
   "source": [
    "### With a T-statistcs of 16.87 and p-value of virtually 0, which is smaller than 0.05, we can see there is a lot of significance here. So we can safely reject the null hypothesis and favor the alternative hypothesis. The customers stay longer on bike compared to the subscribers."
   ]
  },
  {
   "cell_type": "code",
   "execution_count": 32,
   "metadata": {},
   "outputs": [
    {
     "name": "stdout",
     "output_type": "stream",
     "text": [
      "Downloading 201601\n",
      "file in place, you can continue\n"
     ]
    }
   ],
   "source": [
    "# reproduce this study using a different month to make sure the robostness of our results\n",
    "# use 2016.1 because it is a winter time \n",
    "datestring = '201601'\n",
    "getCitiBikeCSV(datestring)\n",
    "df = pd.read_csv(os.getenv(\"PUIDATA\") + \"/\" + datestring + '-citibike-tripdata.csv')"
   ]
  },
  {
   "cell_type": "code",
   "execution_count": 33,
   "metadata": {},
   "outputs": [],
   "source": [
    "drop_cols = ['stoptime', 'start station id',\n",
    "       'start station name', 'start station latitude',\n",
    "       'start station longitude', 'end station id', 'end station name',\n",
    "       'end station latitude', 'end station longitude', 'bikeid', 'birth year', 'gender']"
   ]
  },
  {
   "cell_type": "code",
   "execution_count": 34,
   "metadata": {},
   "outputs": [],
   "source": [
    "df.drop(['stoptime', 'start station id',\n",
    "       'start station name', 'start station latitude',\n",
    "       'start station longitude', 'end station id', 'end station name',\n",
    "       'end station latitude', 'end station longitude', 'bikeid',\n",
    "       'birth year', 'gender'], axis=1, inplace=True)"
   ]
  },
  {
   "cell_type": "code",
   "execution_count": 35,
   "metadata": {},
   "outputs": [
    {
     "data": {
      "text/plain": [
       "Text(0.5, 1.0, 'Average Trip Duration vs. User Types 2016.1')"
      ]
     },
     "execution_count": 35,
     "metadata": {},
     "output_type": "execute_result"
    },
    {
     "data": {
      "text/plain": [
       "<Figure size 720x432 with 0 Axes>"
      ]
     },
     "metadata": {},
     "output_type": "display_data"
    },
    {
     "data": {
      "image/png": "[encoded data removed]",
      "text/plain": [
       "<Figure size 432x288 with 1 Axes>"
      ]
     },
     "metadata": {
      "needs_background": "light"
     },
     "output_type": "display_data"
    }
   ],
   "source": [
    "\n",
    "fig = plt.figure(figsize=(10,6))\n",
    "users_mean_travel_time = df.groupby(['usertype']).mean()\n",
    "users_mean_travel_time.plot(kind='bar',rot=360)\n",
    "plt.grid(b=True)\n",
    "plt.xlabel('User Type')\n",
    "plt.ylabel('Average Trip Time')\n",
    "plt.title('Average Trip Duration vs. User Types 2016.1')"
   ]
  },
  {
   "cell_type": "markdown",
   "metadata": {},
   "source": [
    "### Figure 3: Average Trip Duration vs. User Types in 2016.1"
   ]
  },
  {
   "cell_type": "code",
   "execution_count": 36,
   "metadata": {},
   "outputs": [
    {
     "data": {
      "text/plain": [
       "Text(0.5, 1.0, 'Std Trip Duration vs. User Types 2016.1')"
      ]
     },
     "execution_count": 36,
     "metadata": {},
     "output_type": "execute_result"
    },
    {
     "data": {
      "text/plain": [
       "<Figure size 720x432 with 0 Axes>"
      ]
     },
     "metadata": {},
     "output_type": "display_data"
    },
    {
     "data": {
      "image/png": "[encoded data removed]",
      "text/plain": [
       "<Figure size 432x288 with 1 Axes>"
      ]
     },
     "metadata": {
      "needs_background": "light"
     },
     "output_type": "display_data"
    }
   ],
   "source": [
    "fig = plt.figure(figsize=(10,6))\n",
    "users_mean_travel_time = df.groupby(['usertype']).std()\n",
    "users_mean_travel_time.plot(kind='bar',rot=360)\n",
    "plt.grid(b=True)\n",
    "plt.xlabel('User Type')\n",
    "plt.ylabel('Standard Deviation')\n",
    "plt.title('Std Trip Duration vs. User Types 2016.1')"
   ]
  },
  {
   "cell_type": "markdown",
   "metadata": {},
   "source": [
    "### Figure 4: Trip Duration Standard Deviation of Trip Duration vs. User Types in 2016.1"
   ]
  },
  {
   "cell_type": "code",
   "execution_count": 37,
   "metadata": {},
   "outputs": [
    {
     "name": "stdout",
     "output_type": "stream",
     "text": [
      "We need to take a look at the statistical significance before we reject the null hypothesis.\n"
     ]
    }
   ],
   "source": [
    "df_sub = df[df['usertype'] == 'Subscriber']\n",
    "df_cus = df[df['usertype'] == 'Customer']\n",
    "diff_cus_sub = df_cus.tripduration.mean() - df_sub.tripduration.mean()\n",
    "if diff_cus_sub <= 0:\n",
    "    print(\"We are done. Null hypothesis is true.\")\n",
    "else:\n",
    "    print(\"We need to take a look at the statistical significance before we reject the null hypothesis.\")"
   ]
  },
  {
   "cell_type": "code",
   "execution_count": 38,
   "metadata": {},
   "outputs": [
    {
     "data": {
      "text/plain": [
       "Ttest_indResult(statistic=15.304019346096178, pvalue=1.2486069837918385e-52)"
      ]
     },
     "execution_count": 38,
     "metadata": {},
     "output_type": "execute_result"
    }
   ],
   "source": [
    "# Now make use of the T-Test for two sample means\n",
    "stats.ttest_ind(df_cus.tripduration, df_sub.tripduration, equal_var = False)"
   ]
  },
  {
   "cell_type": "markdown",
   "metadata": {},
   "source": [
    "### With a T-statistcs of 15.3 and p-value of virtually 0, which is smaller than 0.05, we can see there is a lot of significance here. So we can safely reject the null hypothesis and favor the alternative hypothesis. The customers stay longer on bike compared to the subscribers."
   ]
  },
  {
   "cell_type": "code",
   "execution_count": null,
   "metadata": {},
   "outputs": [],
   "source": []
  }
 ],
 "metadata": {
  "kernelspec": {
   "display_name": "geo",
   "language": "python",
   "name": "geo"
  },
  "language_info": {
   "codemirror_mode": {
    "name": "ipython",
    "version": 3
   },
   "file_extension": ".py",
   "mimetype": "text/x-python",
   "name": "python",
   "nbconvert_exporter": "python",
   "pygments_lexer": "ipython3",
   "version": "3.6.6"
  }
 },
 "nbformat": 4,
 "nbformat_minor": 2
}
