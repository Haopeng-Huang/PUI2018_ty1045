{
 "cells": [
  {
   "cell_type": "markdown",
   "metadata": {
    "run_control": {
     "frozen": false,
     "read_only": false
    }
   },
   "source": [
    "**exercises with statsmodels OLS and WLS**\n",
    "*created by fbb November 2018*\n"
   ]
  },
  {
   "cell_type": "code",
   "execution_count": 10,
   "metadata": {
    "ExecuteTime": {
     "end_time": "2018-11-08T18:05:35.078740Z",
     "start_time": "2018-11-08T18:05:35.037891Z"
    },
    "run_control": {
     "frozen": false,
     "read_only": false
    }
   },
   "outputs": [
    {
     "name": "stdout",
     "output_type": "stream",
     "text": [
      "Populating the interactive namespace from numpy and matplotlib\n"
     ]
    }
   ],
   "source": [
    "from __future__ import print_function, division\n",
    "import pylab as pl\n",
    "\n",
    "import os\n",
    "import json\n",
    "import numpy as np \n",
    "import statsmodels.api as sm\n",
    "import statsmodels.formula.api as smf\n",
    "# s = json.load( open(os.getenv('PUI2018')+\"/fbb_matplotlibrc.json\") )\n",
    "# pl.rcParams.update(s)\n",
    "\n",
    "%pylab inline"
   ]
  },
  {
   "cell_type": "code",
   "execution_count": 11,
   "metadata": {
    "ExecuteTime": {
     "end_time": "2018-11-08T18:05:35.950830Z",
     "start_time": "2018-11-08T18:05:35.933414Z"
    },
    "run_control": {
     "frozen": false,
     "read_only": false
    }
   },
   "outputs": [],
   "source": [
    "def errors(x):\n",
    "    return np.sqrt(x)\n",
    "    \n",
    "\n",
    "def line(a, x, b=0, errors=None):\n",
    "    '''\n",
    "    creates a line from parameters and exogenous variable\n",
    "    a: slope\n",
    "    x: exogenous variable\n",
    "    b: intercept - default 0\n",
    "    errors: add uncertainties (sqrt(N) - default True)\n",
    "    '''\n",
    "    np.random.randn(123)\n",
    "    if errors is None:\n",
    "        return a*x + b \n",
    "    else:\n",
    "        return a*x + b + np.random.randn(len(x)) * errors(x)\n",
    "    \n"
   ]
  },
  {
   "cell_type": "markdown",
   "metadata": {
    "run_control": {
     "frozen": false,
     "read_only": false
    }
   },
   "source": [
    "# 1. create a line with a chosen slope and intercept = 0 and plot it with uncertainties as errorbars\n",
    "\n",
    "use the functions created above"
   ]
  },
  {
   "cell_type": "code",
   "execution_count": 47,
   "metadata": {
    "ExecuteTime": {
     "end_time": "2018-11-08T18:05:47.132879Z",
     "start_time": "2018-11-08T18:05:46.952667Z"
    },
    "run_control": {
     "frozen": false,
     "read_only": false
    }
   },
   "outputs": [
    {
     "data": {
      "text/plain": [
       "Text(0.5, 0, 'exogenous')"
      ]
     },
     "execution_count": 47,
     "metadata": {},
     "output_type": "execute_result"
    },
    {
     "data": {
      "image/png": "[encoded data removed]",
      "text/plain": [
       "<Figure size 720x432 with 1 Axes>"
      ]
     },
     "metadata": {
      "needs_background": "light"
     },
     "output_type": "display_data"
    }
   ],
   "source": [
    "# generate x and y values \n",
    "x, y = np.linspace(0, 100, 10), line(0.6, np.linspace(0, 100, 10), errors=errors)\n",
    "# plot the error bar \n",
    "plt.figure(figsize=(10,6))\n",
    "plt.grid(b=True)\n",
    "pl.errorbar(x, y, errors(x),  fmt='.')\n",
    "pl.ylabel(\"endogenous\", fontsize=16)\n",
    "pl.xlabel(\"exogenous\", fontsize=16)"
   ]
  },
  {
   "cell_type": "markdown",
   "metadata": {
    "run_control": {
     "frozen": false,
     "read_only": false
    }
   },
   "source": [
    "# 2. print y, x, and the result of applying statsmodels.api.add_constant() to x"
   ]
  },
  {
   "cell_type": "code",
   "execution_count": 21,
   "metadata": {},
   "outputs": [
    {
     "name": "stdout",
     "output_type": "stream",
     "text": [
      "The x values are :  [  0.          11.11111111  22.22222222  33.33333333  44.44444444\n",
      "  55.55555556  66.66666667  77.77777778  88.88888889 100.        ]\n"
     ]
    }
   ],
   "source": [
    "print(\"The x values are : \", x)"
   ]
  },
  {
   "cell_type": "code",
   "execution_count": 22,
   "metadata": {},
   "outputs": [
    {
     "name": "stdout",
     "output_type": "stream",
     "text": [
      "The y values are :  [ 0.          9.26876507 20.48912781 15.20810076 28.61600508 26.00447978\n",
      " 27.72431849 34.67419791 59.86474065 54.63985632]\n"
     ]
    }
   ],
   "source": [
    "print(\"The y values are : \", y)"
   ]
  },
  {
   "cell_type": "code",
   "execution_count": 23,
   "metadata": {},
   "outputs": [],
   "source": [
    "x_constant = sm.add_constant(x)"
   ]
  },
  {
   "cell_type": "code",
   "execution_count": 24,
   "metadata": {},
   "outputs": [
    {
     "name": "stdout",
     "output_type": "stream",
     "text": [
      "After adding constant:  [[  1.           0.        ]\n",
      " [  1.          11.11111111]\n",
      " [  1.          22.22222222]\n",
      " [  1.          33.33333333]\n",
      " [  1.          44.44444444]\n",
      " [  1.          55.55555556]\n",
      " [  1.          66.66666667]\n",
      " [  1.          77.77777778]\n",
      " [  1.          88.88888889]\n",
      " [  1.         100.        ]]\n"
     ]
    }
   ],
   "source": [
    "print(\"After adding constant: \", x_constant)"
   ]
  },
  {
   "cell_type": "markdown",
   "metadata": {
    "run_control": {
     "frozen": false,
     "read_only": false
    }
   },
   "source": [
    "# 3. use statsmodels.api.OLS to fit x and y \n",
    "- a. *the wrong way*: by passing x as exogenous variable\n",
    "- b. *the right way*: by passing statsmodels.api.add_constant(x) as exogenous variable\n",
    "\n",
    "# and print the model summary for each and discuss the differences"
   ]
  },
  {
   "cell_type": "code",
   "execution_count": 25,
   "metadata": {
    "ExecuteTime": {
     "end_time": "2018-11-08T17:14:00.771892Z",
     "start_time": "2018-11-08T17:14:00.720962Z"
    },
    "run_control": {
     "frozen": false,
     "read_only": false
    }
   },
   "outputs": [
    {
     "name": "stderr",
     "output_type": "stream",
     "text": [
      "/nfshome/ty1045/.conda/envs/geo/lib/python3.6/site-packages/scipy/stats/stats.py:1394: UserWarning: kurtosistest only valid for n>=20 ... continuing anyway, n=10\n",
      "  \"anyway, n=%i\" % int(n))\n"
     ]
    },
    {
     "data": {
      "text/html": [
       "<table class=\"simpletable\">\n",
       "<caption>OLS Regression Results</caption>\n",
       "<tr>\n",
       "  <th>Dep. Variable:</th>            <td>y</td>        <th>  R-squared:         </th> <td>   0.964</td>\n",
       "</tr>\n",
       "<tr>\n",
       "  <th>Model:</th>                   <td>OLS</td>       <th>  Adj. R-squared:    </th> <td>   0.960</td>\n",
       "</tr>\n",
       "<tr>\n",
       "  <th>Method:</th>             <td>Least Squares</td>  <th>  F-statistic:       </th> <td>   239.1</td>\n",
       "</tr>\n",
       "<tr>\n",
       "  <th>Date:</th>             <td>Tue, 13 Nov 2018</td> <th>  Prob (F-statistic):</th> <td>8.66e-08</td>\n",
       "</tr>\n",
       "<tr>\n",
       "  <th>Time:</th>                 <td>13:31:04</td>     <th>  Log-Likelihood:    </th> <td> -32.517</td>\n",
       "</tr>\n",
       "<tr>\n",
       "  <th>No. Observations:</th>      <td>    10</td>      <th>  AIC:               </th> <td>   67.03</td>\n",
       "</tr>\n",
       "<tr>\n",
       "  <th>Df Residuals:</th>          <td>     9</td>      <th>  BIC:               </th> <td>   67.34</td>\n",
       "</tr>\n",
       "<tr>\n",
       "  <th>Df Model:</th>              <td>     1</td>      <th>                     </th>     <td> </td>   \n",
       "</tr>\n",
       "<tr>\n",
       "  <th>Covariance Type:</th>      <td>nonrobust</td>    <th>                     </th>     <td> </td>   \n",
       "</tr>\n",
       "</table>\n",
       "<table class=\"simpletable\">\n",
       "<tr>\n",
       "   <td></td>     <th>coef</th>     <th>std err</th>      <th>t</th>      <th>P>|t|</th>  <th>[0.025</th>    <th>0.975]</th>  \n",
       "</tr>\n",
       "<tr>\n",
       "  <th>x1</th> <td>    0.5432</td> <td>    0.035</td> <td>   15.462</td> <td> 0.000</td> <td>    0.464</td> <td>    0.623</td>\n",
       "</tr>\n",
       "</table>\n",
       "<table class=\"simpletable\">\n",
       "<tr>\n",
       "  <th>Omnibus:</th>       <td> 0.389</td> <th>  Durbin-Watson:     </th> <td>   2.067</td>\n",
       "</tr>\n",
       "<tr>\n",
       "  <th>Prob(Omnibus):</th> <td> 0.823</td> <th>  Jarque-Bera (JB):  </th> <td>   0.475</td>\n",
       "</tr>\n",
       "<tr>\n",
       "  <th>Skew:</th>          <td> 0.231</td> <th>  Prob(JB):          </th> <td>   0.788</td>\n",
       "</tr>\n",
       "<tr>\n",
       "  <th>Kurtosis:</th>      <td> 2.037</td> <th>  Cond. No.          </th> <td>    1.00</td>\n",
       "</tr>\n",
       "</table><br/><br/>Warnings:<br/>[1] Standard Errors assume that the covariance matrix of the errors is correctly specified."
      ],
      "text/plain": [
       "<class 'statsmodels.iolib.summary.Summary'>\n",
       "\"\"\"\n",
       "                            OLS Regression Results                            \n",
       "==============================================================================\n",
       "Dep. Variable:                      y   R-squared:                       0.964\n",
       "Model:                            OLS   Adj. R-squared:                  0.960\n",
       "Method:                 Least Squares   F-statistic:                     239.1\n",
       "Date:                Tue, 13 Nov 2018   Prob (F-statistic):           8.66e-08\n",
       "Time:                        13:31:04   Log-Likelihood:                -32.517\n",
       "No. Observations:                  10   AIC:                             67.03\n",
       "Df Residuals:                       9   BIC:                             67.34\n",
       "Df Model:                           1                                         \n",
       "Covariance Type:            nonrobust                                         \n",
       "==============================================================================\n",
       "                 coef    std err          t      P>|t|      [0.025      0.975]\n",
       "------------------------------------------------------------------------------\n",
       "x1             0.5432      0.035     15.462      0.000       0.464       0.623\n",
       "==============================================================================\n",
       "Omnibus:                        0.389   Durbin-Watson:                   2.067\n",
       "Prob(Omnibus):                  0.823   Jarque-Bera (JB):                0.475\n",
       "Skew:                           0.231   Prob(JB):                        0.788\n",
       "Kurtosis:                       2.037   Cond. No.                         1.00\n",
       "==============================================================================\n",
       "\n",
       "Warnings:\n",
       "[1] Standard Errors assume that the covariance matrix of the errors is correctly specified.\n",
       "\"\"\""
      ]
     },
     "execution_count": 25,
     "metadata": {},
     "output_type": "execute_result"
    }
   ],
   "source": [
    "#THE WRONG WAY\n",
    "smfit = smf.OLS(y, x).fit()\n",
    "smfit.summary()"
   ]
  },
  {
   "cell_type": "code",
   "execution_count": 26,
   "metadata": {
    "ExecuteTime": {
     "end_time": "2018-11-08T17:14:00.812856Z",
     "start_time": "2018-11-08T17:14:00.775233Z"
    },
    "run_control": {
     "frozen": false,
     "read_only": false
    }
   },
   "outputs": [
    {
     "name": "stderr",
     "output_type": "stream",
     "text": [
      "/nfshome/ty1045/.conda/envs/geo/lib/python3.6/site-packages/scipy/stats/stats.py:1394: UserWarning: kurtosistest only valid for n>=20 ... continuing anyway, n=10\n",
      "  \"anyway, n=%i\" % int(n))\n"
     ]
    },
    {
     "data": {
      "text/html": [
       "<table class=\"simpletable\">\n",
       "<caption>OLS Regression Results</caption>\n",
       "<tr>\n",
       "  <th>Dep. Variable:</th>            <td>y</td>        <th>  R-squared:         </th> <td>   0.878</td>\n",
       "</tr>\n",
       "<tr>\n",
       "  <th>Model:</th>                   <td>OLS</td>       <th>  Adj. R-squared:    </th> <td>   0.862</td>\n",
       "</tr>\n",
       "<tr>\n",
       "  <th>Method:</th>             <td>Least Squares</td>  <th>  F-statistic:       </th> <td>   57.41</td>\n",
       "</tr>\n",
       "<tr>\n",
       "  <th>Date:</th>             <td>Tue, 13 Nov 2018</td> <th>  Prob (F-statistic):</th> <td>6.44e-05</td>\n",
       "</tr>\n",
       "<tr>\n",
       "  <th>Time:</th>                 <td>13:32:03</td>     <th>  Log-Likelihood:    </th> <td> -32.410</td>\n",
       "</tr>\n",
       "<tr>\n",
       "  <th>No. Observations:</th>      <td>    10</td>      <th>  AIC:               </th> <td>   68.82</td>\n",
       "</tr>\n",
       "<tr>\n",
       "  <th>Df Residuals:</th>          <td>     8</td>      <th>  BIC:               </th> <td>   69.43</td>\n",
       "</tr>\n",
       "<tr>\n",
       "  <th>Df Model:</th>              <td>     1</td>      <th>                     </th>     <td> </td>   \n",
       "</tr>\n",
       "<tr>\n",
       "  <th>Covariance Type:</th>      <td>nonrobust</td>    <th>                     </th>     <td> </td>   \n",
       "</tr>\n",
       "</table>\n",
       "<table class=\"simpletable\">\n",
       "<tr>\n",
       "    <td></td>       <th>coef</th>     <th>std err</th>      <th>t</th>      <th>P>|t|</th>  <th>[0.025</th>    <th>0.975]</th>  \n",
       "</tr>\n",
       "<tr>\n",
       "  <th>const</th> <td>    1.6910</td> <td>    4.064</td> <td>    0.416</td> <td> 0.688</td> <td>   -7.681</td> <td>   11.063</td>\n",
       "</tr>\n",
       "<tr>\n",
       "  <th>x1</th>    <td>    0.5192</td> <td>    0.069</td> <td>    7.577</td> <td> 0.000</td> <td>    0.361</td> <td>    0.677</td>\n",
       "</tr>\n",
       "</table>\n",
       "<table class=\"simpletable\">\n",
       "<tr>\n",
       "  <th>Omnibus:</th>       <td> 0.573</td> <th>  Durbin-Watson:     </th> <td>   2.114</td>\n",
       "</tr>\n",
       "<tr>\n",
       "  <th>Prob(Omnibus):</th> <td> 0.751</td> <th>  Jarque-Bera (JB):  </th> <td>   0.529</td>\n",
       "</tr>\n",
       "<tr>\n",
       "  <th>Skew:</th>          <td> 0.422</td> <th>  Prob(JB):          </th> <td>   0.767</td>\n",
       "</tr>\n",
       "<tr>\n",
       "  <th>Kurtosis:</th>      <td> 2.253</td> <th>  Cond. No.          </th> <td>    110.</td>\n",
       "</tr>\n",
       "</table><br/><br/>Warnings:<br/>[1] Standard Errors assume that the covariance matrix of the errors is correctly specified."
      ],
      "text/plain": [
       "<class 'statsmodels.iolib.summary.Summary'>\n",
       "\"\"\"\n",
       "                            OLS Regression Results                            \n",
       "==============================================================================\n",
       "Dep. Variable:                      y   R-squared:                       0.878\n",
       "Model:                            OLS   Adj. R-squared:                  0.862\n",
       "Method:                 Least Squares   F-statistic:                     57.41\n",
       "Date:                Tue, 13 Nov 2018   Prob (F-statistic):           6.44e-05\n",
       "Time:                        13:32:03   Log-Likelihood:                -32.410\n",
       "No. Observations:                  10   AIC:                             68.82\n",
       "Df Residuals:                       8   BIC:                             69.43\n",
       "Df Model:                           1                                         \n",
       "Covariance Type:            nonrobust                                         \n",
       "==============================================================================\n",
       "                 coef    std err          t      P>|t|      [0.025      0.975]\n",
       "------------------------------------------------------------------------------\n",
       "const          1.6910      4.064      0.416      0.688      -7.681      11.063\n",
       "x1             0.5192      0.069      7.577      0.000       0.361       0.677\n",
       "==============================================================================\n",
       "Omnibus:                        0.573   Durbin-Watson:                   2.114\n",
       "Prob(Omnibus):                  0.751   Jarque-Bera (JB):                0.529\n",
       "Skew:                           0.422   Prob(JB):                        0.767\n",
       "Kurtosis:                       2.253   Cond. No.                         110.\n",
       "==============================================================================\n",
       "\n",
       "Warnings:\n",
       "[1] Standard Errors assume that the covariance matrix of the errors is correctly specified.\n",
       "\"\"\""
      ]
     },
     "execution_count": 26,
     "metadata": {},
     "output_type": "execute_result"
    }
   ],
   "source": [
    "#THE RIGHT WAY\n",
    "smfit_with_constants = smf.OLS(y, x_constant).fit()\n",
    "smfit_with_constants.summary()"
   ]
  },
  {
   "cell_type": "markdown",
   "metadata": {
    "run_control": {
     "frozen": false,
     "read_only": false
    }
   },
   "source": [
    "# 4. plot the data (as points) and both statsmodels fits"
   ]
  },
  {
   "cell_type": "code",
   "execution_count": 39,
   "metadata": {},
   "outputs": [
    {
     "data": {
      "text/plain": [
       "<matplotlib.collections.PathCollection at 0x7f057c085278>"
      ]
     },
     "execution_count": 39,
     "metadata": {},
     "output_type": "execute_result"
    },
    {
     "data": {
      "image/png": "[encoded data removed]",
      "text/plain": [
       "<Figure size 720x432 with 1 Axes>"
      ]
     },
     "metadata": {
      "needs_background": "light"
     },
     "output_type": "display_data"
    }
   ],
   "source": [
    "# first plot the one without constant\n",
    "plt.figure(figsize=(10,6))\n",
    "plt.title('fit of x and y without constant', fontsize=16)\n",
    "plt.xlabel('x', fontsize=16)\n",
    "plt.ylabel('y', fontsize=16)\n",
    "plt.grid(b=True)\n",
    "pred = smfit.predict(x) \n",
    "plt.plot(x, pred)\n",
    "plt.scatter(x, y)"
   ]
  },
  {
   "cell_type": "code",
   "execution_count": 41,
   "metadata": {},
   "outputs": [
    {
     "data": {
      "text/plain": [
       "<matplotlib.collections.PathCollection at 0x7f057bfcae10>"
      ]
     },
     "execution_count": 41,
     "metadata": {},
     "output_type": "execute_result"
    },
    {
     "data": {
      "image/png": "[encoded data removed]",
      "text/plain": [
       "<Figure size 720x432 with 1 Axes>"
      ]
     },
     "metadata": {
      "needs_background": "light"
     },
     "output_type": "display_data"
    }
   ],
   "source": [
    "# first get the slope and constant \n",
    "p1, p2 = smfit_with_constants.params\n",
    "plt.figure(figsize=(10,6))\n",
    "plt.title('fit of x and y with constant', fontsize=16)\n",
    "plt.xlabel('x', fontsize=16)\n",
    "plt.ylabel('y', fontsize=16)\n",
    "plt.grid(b=True)\n",
    "pred = smfit.predict(x) \n",
    "plt.plot(x, x * p2 + p1)\n",
    "plt.scatter(x, y)"
   ]
  },
  {
   "cell_type": "markdown",
   "metadata": {
    "run_control": {
     "frozen": false,
     "read_only": false
    }
   },
   "source": [
    "# 5. create a line with a chosen slope and a chosen intercept >=100*slope and plot it with uncertainties as errorbars"
   ]
  },
  {
   "cell_type": "code",
   "execution_count": 48,
   "metadata": {},
   "outputs": [
    {
     "data": {
      "text/plain": [
       "Text(0.5, 0, 'exogenous')"
      ]
     },
     "execution_count": 48,
     "metadata": {},
     "output_type": "execute_result"
    },
    {
     "data": {
      "image/png": "[encoded data removed]",
      "text/plain": [
       "<Figure size 720x432 with 1 Axes>"
      ]
     },
     "metadata": {
      "needs_background": "light"
     },
     "output_type": "display_data"
    }
   ],
   "source": [
    "# generate x and y values \n",
    "x, y = np.linspace(0, 100, 10), line(0.6, np.linspace(0, 100, 10), b=100, errors=errors)\n",
    "# plot the error bar \n",
    "plt.figure(figsize=(10,6))\n",
    "plt.grid(b=True)\n",
    "pl.errorbar(x, y, errors(x),  fmt='.')\n",
    "pl.ylabel(\"endogenous\", fontsize=16)\n",
    "pl.xlabel(\"exogenous\", fontsize=16)"
   ]
  },
  {
   "cell_type": "markdown",
   "metadata": {
    "run_control": {
     "frozen": false,
     "read_only": false
    }
   },
   "source": [
    "# 6. repeat step 3"
   ]
  },
  {
   "cell_type": "code",
   "execution_count": 49,
   "metadata": {},
   "outputs": [
    {
     "name": "stderr",
     "output_type": "stream",
     "text": [
      "/nfshome/ty1045/.conda/envs/geo/lib/python3.6/site-packages/scipy/stats/stats.py:1394: UserWarning: kurtosistest only valid for n>=20 ... continuing anyway, n=10\n",
      "  \"anyway, n=%i\" % int(n))\n"
     ]
    },
    {
     "data": {
      "text/html": [
       "<table class=\"simpletable\">\n",
       "<caption>OLS Regression Results</caption>\n",
       "<tr>\n",
       "  <th>Dep. Variable:</th>            <td>y</td>        <th>  R-squared:         </th> <td>   0.824</td>\n",
       "</tr>\n",
       "<tr>\n",
       "  <th>Model:</th>                   <td>OLS</td>       <th>  Adj. R-squared:    </th> <td>   0.804</td>\n",
       "</tr>\n",
       "<tr>\n",
       "  <th>Method:</th>             <td>Least Squares</td>  <th>  F-statistic:       </th> <td>   42.12</td>\n",
       "</tr>\n",
       "<tr>\n",
       "  <th>Date:</th>             <td>Tue, 13 Nov 2018</td> <th>  Prob (F-statistic):</th> <td>0.000113</td>\n",
       "</tr>\n",
       "<tr>\n",
       "  <th>Time:</th>                 <td>14:38:25</td>     <th>  Log-Likelihood:    </th> <td> -54.053</td>\n",
       "</tr>\n",
       "<tr>\n",
       "  <th>No. Observations:</th>      <td>    10</td>      <th>  AIC:               </th> <td>   110.1</td>\n",
       "</tr>\n",
       "<tr>\n",
       "  <th>Df Residuals:</th>          <td>     9</td>      <th>  BIC:               </th> <td>   110.4</td>\n",
       "</tr>\n",
       "<tr>\n",
       "  <th>Df Model:</th>              <td>     1</td>      <th>                     </th>     <td> </td>   \n",
       "</tr>\n",
       "<tr>\n",
       "  <th>Covariance Type:</th>      <td>nonrobust</td>    <th>                     </th>     <td> </td>   \n",
       "</tr>\n",
       "</table>\n",
       "<table class=\"simpletable\">\n",
       "<tr>\n",
       "   <td></td>     <th>coef</th>     <th>std err</th>      <th>t</th>      <th>P>|t|</th>  <th>[0.025</th>    <th>0.975]</th>  \n",
       "</tr>\n",
       "<tr>\n",
       "  <th>x1</th> <td>    1.9642</td> <td>    0.303</td> <td>    6.490</td> <td> 0.000</td> <td>    1.280</td> <td>    2.649</td>\n",
       "</tr>\n",
       "</table>\n",
       "<table class=\"simpletable\">\n",
       "<tr>\n",
       "  <th>Omnibus:</th>       <td> 1.595</td> <th>  Durbin-Watson:     </th> <td>   0.082</td>\n",
       "</tr>\n",
       "<tr>\n",
       "  <th>Prob(Omnibus):</th> <td> 0.450</td> <th>  Jarque-Bera (JB):  </th> <td>   0.758</td>\n",
       "</tr>\n",
       "<tr>\n",
       "  <th>Skew:</th>          <td> 0.074</td> <th>  Prob(JB):          </th> <td>   0.685</td>\n",
       "</tr>\n",
       "<tr>\n",
       "  <th>Kurtosis:</th>      <td> 1.660</td> <th>  Cond. No.          </th> <td>    1.00</td>\n",
       "</tr>\n",
       "</table><br/><br/>Warnings:<br/>[1] Standard Errors assume that the covariance matrix of the errors is correctly specified."
      ],
      "text/plain": [
       "<class 'statsmodels.iolib.summary.Summary'>\n",
       "\"\"\"\n",
       "                            OLS Regression Results                            \n",
       "==============================================================================\n",
       "Dep. Variable:                      y   R-squared:                       0.824\n",
       "Model:                            OLS   Adj. R-squared:                  0.804\n",
       "Method:                 Least Squares   F-statistic:                     42.12\n",
       "Date:                Tue, 13 Nov 2018   Prob (F-statistic):           0.000113\n",
       "Time:                        14:38:25   Log-Likelihood:                -54.053\n",
       "No. Observations:                  10   AIC:                             110.1\n",
       "Df Residuals:                       9   BIC:                             110.4\n",
       "Df Model:                           1                                         \n",
       "Covariance Type:            nonrobust                                         \n",
       "==============================================================================\n",
       "                 coef    std err          t      P>|t|      [0.025      0.975]\n",
       "------------------------------------------------------------------------------\n",
       "x1             1.9642      0.303      6.490      0.000       1.280       2.649\n",
       "==============================================================================\n",
       "Omnibus:                        1.595   Durbin-Watson:                   0.082\n",
       "Prob(Omnibus):                  0.450   Jarque-Bera (JB):                0.758\n",
       "Skew:                           0.074   Prob(JB):                        0.685\n",
       "Kurtosis:                       1.660   Cond. No.                         1.00\n",
       "==============================================================================\n",
       "\n",
       "Warnings:\n",
       "[1] Standard Errors assume that the covariance matrix of the errors is correctly specified.\n",
       "\"\"\""
      ]
     },
     "execution_count": 49,
     "metadata": {},
     "output_type": "execute_result"
    }
   ],
   "source": [
    "# without constants\n",
    "smfit = smf.OLS(y, x).fit()\n",
    "smfit.summary()"
   ]
  },
  {
   "cell_type": "code",
   "execution_count": 50,
   "metadata": {},
   "outputs": [
    {
     "name": "stderr",
     "output_type": "stream",
     "text": [
      "/nfshome/ty1045/.conda/envs/geo/lib/python3.6/site-packages/scipy/stats/stats.py:1394: UserWarning: kurtosistest only valid for n>=20 ... continuing anyway, n=10\n",
      "  \"anyway, n=%i\" % int(n))\n"
     ]
    },
    {
     "data": {
      "text/html": [
       "<table class=\"simpletable\">\n",
       "<caption>OLS Regression Results</caption>\n",
       "<tr>\n",
       "  <th>Dep. Variable:</th>            <td>y</td>        <th>  R-squared:         </th> <td>   0.934</td>\n",
       "</tr>\n",
       "<tr>\n",
       "  <th>Model:</th>                   <td>OLS</td>       <th>  Adj. R-squared:    </th> <td>   0.925</td>\n",
       "</tr>\n",
       "<tr>\n",
       "  <th>Method:</th>             <td>Least Squares</td>  <th>  F-statistic:       </th> <td>   112.6</td>\n",
       "</tr>\n",
       "<tr>\n",
       "  <th>Date:</th>             <td>Tue, 13 Nov 2018</td> <th>  Prob (F-statistic):</th> <td>5.45e-06</td>\n",
       "</tr>\n",
       "<tr>\n",
       "  <th>Time:</th>                 <td>14:38:49</td>     <th>  Log-Likelihood:    </th> <td> -29.566</td>\n",
       "</tr>\n",
       "<tr>\n",
       "  <th>No. Observations:</th>      <td>    10</td>      <th>  AIC:               </th> <td>   63.13</td>\n",
       "</tr>\n",
       "<tr>\n",
       "  <th>Df Residuals:</th>          <td>     8</td>      <th>  BIC:               </th> <td>   63.74</td>\n",
       "</tr>\n",
       "<tr>\n",
       "  <th>Df Model:</th>              <td>     1</td>      <th>                     </th>     <td> </td>   \n",
       "</tr>\n",
       "<tr>\n",
       "  <th>Covariance Type:</th>      <td>nonrobust</td>    <th>                     </th>     <td> </td>   \n",
       "</tr>\n",
       "</table>\n",
       "<table class=\"simpletable\">\n",
       "<tr>\n",
       "    <td></td>       <th>coef</th>     <th>std err</th>      <th>t</th>      <th>P>|t|</th>  <th>[0.025</th>    <th>0.975]</th>  \n",
       "</tr>\n",
       "<tr>\n",
       "  <th>const</th> <td>   99.7326</td> <td>    3.058</td> <td>   32.613</td> <td> 0.000</td> <td>   92.681</td> <td>  106.785</td>\n",
       "</tr>\n",
       "<tr>\n",
       "  <th>x1</th>    <td>    0.5470</td> <td>    0.052</td> <td>   10.609</td> <td> 0.000</td> <td>    0.428</td> <td>    0.666</td>\n",
       "</tr>\n",
       "</table>\n",
       "<table class=\"simpletable\">\n",
       "<tr>\n",
       "  <th>Omnibus:</th>       <td> 4.763</td> <th>  Durbin-Watson:     </th> <td>   1.875</td>\n",
       "</tr>\n",
       "<tr>\n",
       "  <th>Prob(Omnibus):</th> <td> 0.092</td> <th>  Jarque-Bera (JB):  </th> <td>   1.359</td>\n",
       "</tr>\n",
       "<tr>\n",
       "  <th>Skew:</th>          <td>-0.762</td> <th>  Prob(JB):          </th> <td>   0.507</td>\n",
       "</tr>\n",
       "<tr>\n",
       "  <th>Kurtosis:</th>      <td> 3.969</td> <th>  Cond. No.          </th> <td>    110.</td>\n",
       "</tr>\n",
       "</table><br/><br/>Warnings:<br/>[1] Standard Errors assume that the covariance matrix of the errors is correctly specified."
      ],
      "text/plain": [
       "<class 'statsmodels.iolib.summary.Summary'>\n",
       "\"\"\"\n",
       "                            OLS Regression Results                            \n",
       "==============================================================================\n",
       "Dep. Variable:                      y   R-squared:                       0.934\n",
       "Model:                            OLS   Adj. R-squared:                  0.925\n",
       "Method:                 Least Squares   F-statistic:                     112.6\n",
       "Date:                Tue, 13 Nov 2018   Prob (F-statistic):           5.45e-06\n",
       "Time:                        14:38:49   Log-Likelihood:                -29.566\n",
       "No. Observations:                  10   AIC:                             63.13\n",
       "Df Residuals:                       8   BIC:                             63.74\n",
       "Df Model:                           1                                         \n",
       "Covariance Type:            nonrobust                                         \n",
       "==============================================================================\n",
       "                 coef    std err          t      P>|t|      [0.025      0.975]\n",
       "------------------------------------------------------------------------------\n",
       "const         99.7326      3.058     32.613      0.000      92.681     106.785\n",
       "x1             0.5470      0.052     10.609      0.000       0.428       0.666\n",
       "==============================================================================\n",
       "Omnibus:                        4.763   Durbin-Watson:                   1.875\n",
       "Prob(Omnibus):                  0.092   Jarque-Bera (JB):                1.359\n",
       "Skew:                          -0.762   Prob(JB):                        0.507\n",
       "Kurtosis:                       3.969   Cond. No.                         110.\n",
       "==============================================================================\n",
       "\n",
       "Warnings:\n",
       "[1] Standard Errors assume that the covariance matrix of the errors is correctly specified.\n",
       "\"\"\""
      ]
     },
     "execution_count": 50,
     "metadata": {},
     "output_type": "execute_result"
    }
   ],
   "source": [
    "# with constants \n",
    "smfit_with_constants = smf.OLS(y, x_constant).fit()\n",
    "smfit_with_constants.summary()"
   ]
  },
  {
   "cell_type": "markdown",
   "metadata": {
    "run_control": {
     "frozen": false,
     "read_only": false
    }
   },
   "source": [
    "# 7. now fit the data with WLS weighted least square, a linear fit that takes into account the uncertainties by \"down-weighting\" (considering less important) observations with large uncertainties"
   ]
  },
  {
   "cell_type": "markdown",
   "metadata": {
    "ExecuteTime": {
     "end_time": "2018-11-08T17:02:55.249878Z",
     "start_time": "2018-11-08T17:02:55.203641Z"
    },
    "run_control": {
     "frozen": false,
     "read_only": false
    }
   },
   "source": [
    "you should at this point ask: how can I create weights from my uncertainties? The answer, as often is the case, is not unique. But a rule of thumb is that the weights would be the _inverse_ (remember: larger error must mean smaller weight) of the variance, with is the standard deviation square. Look at the error() function I create and design your weights array according to this rule"
   ]
  },
  {
   "cell_type": "code",
   "execution_count": 51,
   "metadata": {
    "ExecuteTime": {
     "end_time": "2018-11-08T17:14:01.661927Z",
     "start_time": "2018-11-08T17:14:01.633175Z"
    },
    "run_control": {
     "frozen": false,
     "read_only": false
    }
   },
   "outputs": [
    {
     "name": "stderr",
     "output_type": "stream",
     "text": [
      "/nfshome/ty1045/.conda/envs/geo/lib/python3.6/site-packages/scipy/stats/stats.py:1394: UserWarning: kurtosistest only valid for n>=20 ... continuing anyway, n=10\n",
      "  \"anyway, n=%i\" % int(n))\n"
     ]
    },
    {
     "data": {
      "text/html": [
       "<table class=\"simpletable\">\n",
       "<caption>WLS Regression Results</caption>\n",
       "<tr>\n",
       "  <th>Dep. Variable:</th>            <td>y</td>        <th>  R-squared:         </th> <td>   0.809</td>\n",
       "</tr>\n",
       "<tr>\n",
       "  <th>Model:</th>                   <td>WLS</td>       <th>  Adj. R-squared:    </th> <td>   0.788</td>\n",
       "</tr>\n",
       "<tr>\n",
       "  <th>Method:</th>             <td>Least Squares</td>  <th>  F-statistic:       </th> <td>   38.08</td>\n",
       "</tr>\n",
       "<tr>\n",
       "  <th>Date:</th>             <td>Tue, 13 Nov 2018</td> <th>  Prob (F-statistic):</th> <td>0.000165</td>\n",
       "</tr>\n",
       "<tr>\n",
       "  <th>Time:</th>                 <td>14:42:19</td>     <th>  Log-Likelihood:    </th> <td> -54.378</td>\n",
       "</tr>\n",
       "<tr>\n",
       "  <th>No. Observations:</th>      <td>    10</td>      <th>  AIC:               </th> <td>   110.8</td>\n",
       "</tr>\n",
       "<tr>\n",
       "  <th>Df Residuals:</th>          <td>     9</td>      <th>  BIC:               </th> <td>   111.1</td>\n",
       "</tr>\n",
       "<tr>\n",
       "  <th>Df Model:</th>              <td>     1</td>      <th>                     </th>     <td> </td>   \n",
       "</tr>\n",
       "<tr>\n",
       "  <th>Covariance Type:</th>      <td>nonrobust</td>    <th>                     </th>     <td> </td>   \n",
       "</tr>\n",
       "</table>\n",
       "<table class=\"simpletable\">\n",
       "<tr>\n",
       "   <td></td>     <th>coef</th>     <th>std err</th>      <th>t</th>      <th>P>|t|</th>  <th>[0.025</th>    <th>0.975]</th>  \n",
       "</tr>\n",
       "<tr>\n",
       "  <th>x1</th> <td>    1.9892</td> <td>    0.322</td> <td>    6.171</td> <td> 0.000</td> <td>    1.260</td> <td>    2.718</td>\n",
       "</tr>\n",
       "</table>\n",
       "<table class=\"simpletable\">\n",
       "<tr>\n",
       "  <th>Omnibus:</th>       <td> 1.455</td> <th>  Durbin-Watson:     </th> <td>   0.084</td>\n",
       "</tr>\n",
       "<tr>\n",
       "  <th>Prob(Omnibus):</th> <td> 0.483</td> <th>  Jarque-Bera (JB):  </th> <td>   0.748</td>\n",
       "</tr>\n",
       "<tr>\n",
       "  <th>Skew:</th>          <td> 0.146</td> <th>  Prob(JB):          </th> <td>   0.688</td>\n",
       "</tr>\n",
       "<tr>\n",
       "  <th>Kurtosis:</th>      <td> 1.693</td> <th>  Cond. No.          </th> <td>    1.00</td>\n",
       "</tr>\n",
       "</table><br/><br/>Warnings:<br/>[1] Standard Errors assume that the covariance matrix of the errors is correctly specified."
      ],
      "text/plain": [
       "<class 'statsmodels.iolib.summary.Summary'>\n",
       "\"\"\"\n",
       "                            WLS Regression Results                            \n",
       "==============================================================================\n",
       "Dep. Variable:                      y   R-squared:                       0.809\n",
       "Model:                            WLS   Adj. R-squared:                  0.788\n",
       "Method:                 Least Squares   F-statistic:                     38.08\n",
       "Date:                Tue, 13 Nov 2018   Prob (F-statistic):           0.000165\n",
       "Time:                        14:42:19   Log-Likelihood:                -54.378\n",
       "No. Observations:                  10   AIC:                             110.8\n",
       "Df Residuals:                       9   BIC:                             111.1\n",
       "Df Model:                           1                                         \n",
       "Covariance Type:            nonrobust                                         \n",
       "==============================================================================\n",
       "                 coef    std err          t      P>|t|      [0.025      0.975]\n",
       "------------------------------------------------------------------------------\n",
       "x1             1.9892      0.322      6.171      0.000       1.260       2.718\n",
       "==============================================================================\n",
       "Omnibus:                        1.455   Durbin-Watson:                   0.084\n",
       "Prob(Omnibus):                  0.483   Jarque-Bera (JB):                0.748\n",
       "Skew:                           0.146   Prob(JB):                        0.688\n",
       "Kurtosis:                       1.693   Cond. No.                         1.00\n",
       "==============================================================================\n",
       "\n",
       "Warnings:\n",
       "[1] Standard Errors assume that the covariance matrix of the errors is correctly specified.\n",
       "\"\"\""
      ]
     },
     "execution_count": 51,
     "metadata": {},
     "output_type": "execute_result"
    }
   ],
   "source": [
    "# using sm.wls\n",
    "sm.WLS(y, x, weights=1/errors(y)).fit().summary()"
   ]
  },
  {
   "cell_type": "markdown",
   "metadata": {},
   "source": [
    "# Note: you can also use other statsmodels functions, for example statsmodels.formula.api which allows to pass an equation\n",
    "again, make sure that your formula supports an intercept (no deliverable for this portion, it's up to you to explore the use of this function)"
   ]
  },
  {
   "cell_type": "code",
   "execution_count": null,
   "metadata": {},
   "outputs": [],
   "source": [
    "# statsmodels.formula.api accepts dictionaris, pandas dataframes, and python rec arrays as input: \n",
    "# all data types that host data paired with labels\n",
    "smfmodel = smf.ols('y ~ x + const', data={'x':x, 'y':y, 'const':np.ones(len(x))}).fit()\n",
    "pl.errorbar(x, y, yerr=errors(x), fmt='.')\n",
    "pl.plot(x, smfitDoneRight.fittedvalues, '-', label=\"sm.OLS\")\n",
    "pl.plot(x, smfmodel.fittedvalues, '-', label=\"smf.ols\")\n",
    "pl.xlabel(\"exogenous\")\n",
    "pl.ylabel(\"endogenous\")\n",
    "pl.legend();"
   ]
  }
 ],
 "metadata": {
  "kernelspec": {
   "display_name": "geo",
   "language": "python",
   "name": "geo"
  },
  "language_info": {
   "codemirror_mode": {
    "name": "ipython",
    "version": 3
   },
   "file_extension": ".py",
   "mimetype": "text/x-python",
   "name": "python",
   "nbconvert_exporter": "python",
   "pygments_lexer": "ipython3",
   "version": "3.6.6"
  },
  "toc": {
   "colors": {
    "hover_highlight": "#DAA520",
    "running_highlight": "#FF0000",
    "selected_highlight": "#FFD700"
   },
   "moveMenuLeft": true,
   "nav_menu": {
    "height": "12px",
    "width": "252px"
   },
   "navigate_menu": true,
   "number_sections": true,
   "sideBar": true,
   "threshold": 4,
   "toc_cell": false,
   "toc_section_display": "block",
   "toc_window_display": false
  }
 },
 "nbformat": 4,
 "nbformat_minor": 2
}
